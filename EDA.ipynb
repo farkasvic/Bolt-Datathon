{
 "cells": [
  {
   "cell_type": "code",
   "execution_count": 1,
   "id": "f88b7a7b",
   "metadata": {},
   "outputs": [],
   "source": [
    "import pandas as pd\n",
    "import numpy as np\n",
    "import altair as alt"
   ]
  },
  {
   "cell_type": "code",
   "execution_count": 11,
   "id": "46689c64",
   "metadata": {},
   "outputs": [],
   "source": [
    "merch = pd.read_csv('data/BOLT UBC First Byte - Merchandise Sales.csv')\n",
    "\n",
    "fanbase = pd.read_csv('data/BOLT UBC First Byte - Fanbase Engagement.csv')\n",
    "\n",
    "stadium = pd.read_csv('data/BOLT UBC First Byte - Stadium Operations.csv')"
   ]
  },
  {
   "cell_type": "code",
   "execution_count": 6,
   "id": "fe801a9b",
   "metadata": {},
   "outputs": [
    {
     "data": {
      "application/vnd.microsoft.datawrangler.viewer.v0+json": {
       "columns": [
        {
         "name": "index",
         "rawType": "int64",
         "type": "integer"
        },
        {
         "name": "Month",
         "rawType": "int64",
         "type": "integer"
        },
        {
         "name": "Source",
         "rawType": "object",
         "type": "string"
        },
        {
         "name": "Revenue",
         "rawType": "int64",
         "type": "integer"
        }
       ],
       "ref": "bebe04c2-144e-4bbc-913c-97a15ba016ef",
       "rows": [
        [
         "0",
         "1",
         "Upper Bowl",
         "25020"
        ],
        [
         "1",
         "2",
         "Upper Bowl",
         "686664"
        ],
        [
         "2",
         "3",
         "Upper Bowl",
         "434112"
        ],
        [
         "3",
         "4",
         "Upper Bowl",
         "390879"
        ],
        [
         "4",
         "5",
         "Upper Bowl",
         "286524"
        ]
       ],
       "shape": {
        "columns": 3,
        "rows": 5
       }
      },
      "text/html": [
       "<div>\n",
       "<style scoped>\n",
       "    .dataframe tbody tr th:only-of-type {\n",
       "        vertical-align: middle;\n",
       "    }\n",
       "\n",
       "    .dataframe tbody tr th {\n",
       "        vertical-align: top;\n",
       "    }\n",
       "\n",
       "    .dataframe thead th {\n",
       "        text-align: right;\n",
       "    }\n",
       "</style>\n",
       "<table border=\"1\" class=\"dataframe\">\n",
       "  <thead>\n",
       "    <tr style=\"text-align: right;\">\n",
       "      <th></th>\n",
       "      <th>Month</th>\n",
       "      <th>Source</th>\n",
       "      <th>Revenue</th>\n",
       "    </tr>\n",
       "  </thead>\n",
       "  <tbody>\n",
       "    <tr>\n",
       "      <th>0</th>\n",
       "      <td>1</td>\n",
       "      <td>Upper Bowl</td>\n",
       "      <td>25020</td>\n",
       "    </tr>\n",
       "    <tr>\n",
       "      <th>1</th>\n",
       "      <td>2</td>\n",
       "      <td>Upper Bowl</td>\n",
       "      <td>686664</td>\n",
       "    </tr>\n",
       "    <tr>\n",
       "      <th>2</th>\n",
       "      <td>3</td>\n",
       "      <td>Upper Bowl</td>\n",
       "      <td>434112</td>\n",
       "    </tr>\n",
       "    <tr>\n",
       "      <th>3</th>\n",
       "      <td>4</td>\n",
       "      <td>Upper Bowl</td>\n",
       "      <td>390879</td>\n",
       "    </tr>\n",
       "    <tr>\n",
       "      <th>4</th>\n",
       "      <td>5</td>\n",
       "      <td>Upper Bowl</td>\n",
       "      <td>286524</td>\n",
       "    </tr>\n",
       "  </tbody>\n",
       "</table>\n",
       "</div>"
      ],
      "text/plain": [
       "   Month      Source  Revenue\n",
       "0      1  Upper Bowl    25020\n",
       "1      2  Upper Bowl   686664\n",
       "2      3  Upper Bowl   434112\n",
       "3      4  Upper Bowl   390879\n",
       "4      5  Upper Bowl   286524"
      ]
     },
     "execution_count": 6,
     "metadata": {},
     "output_type": "execute_result"
    }
   ],
   "source": [
    "stadium.head()"
   ]
  },
  {
   "cell_type": "code",
   "execution_count": 9,
   "id": "3c981391",
   "metadata": {},
   "outputs": [
    {
     "data": {
      "application/vnd.microsoft.datawrangler.viewer.v0+json": {
       "columns": [
        {
         "name": "index",
         "rawType": "object",
         "type": "string"
        },
        {
         "name": "Month",
         "rawType": "float64",
         "type": "float"
        },
        {
         "name": "Revenue",
         "rawType": "float64",
         "type": "float"
        }
       ],
       "ref": "56864c96-584d-4f29-8af0-e6614f1d89e0",
       "rows": [
        [
         "count",
         "144.0",
         "144.0"
        ],
        [
         "mean",
         "6.5",
         "91899.41666666667"
        ],
        [
         "std",
         "3.4641016151377544",
         "1341148.2666190385"
        ],
        [
         "min",
         "1.0",
         "-3527500.0"
        ],
        [
         "25%",
         "3.75",
         "-175192.5"
        ],
        [
         "50%",
         "6.5",
         "142000.0"
        ],
        [
         "75%",
         "9.25",
         "437875.5"
        ],
        [
         "max",
         "12.0",
         "3410190.0"
        ]
       ],
       "shape": {
        "columns": 2,
        "rows": 8
       }
      },
      "text/html": [
       "<div>\n",
       "<style scoped>\n",
       "    .dataframe tbody tr th:only-of-type {\n",
       "        vertical-align: middle;\n",
       "    }\n",
       "\n",
       "    .dataframe tbody tr th {\n",
       "        vertical-align: top;\n",
       "    }\n",
       "\n",
       "    .dataframe thead th {\n",
       "        text-align: right;\n",
       "    }\n",
       "</style>\n",
       "<table border=\"1\" class=\"dataframe\">\n",
       "  <thead>\n",
       "    <tr style=\"text-align: right;\">\n",
       "      <th></th>\n",
       "      <th>Month</th>\n",
       "      <th>Revenue</th>\n",
       "    </tr>\n",
       "  </thead>\n",
       "  <tbody>\n",
       "    <tr>\n",
       "      <th>count</th>\n",
       "      <td>144.000000</td>\n",
       "      <td>1.440000e+02</td>\n",
       "    </tr>\n",
       "    <tr>\n",
       "      <th>mean</th>\n",
       "      <td>6.500000</td>\n",
       "      <td>9.189942e+04</td>\n",
       "    </tr>\n",
       "    <tr>\n",
       "      <th>std</th>\n",
       "      <td>3.464102</td>\n",
       "      <td>1.341148e+06</td>\n",
       "    </tr>\n",
       "    <tr>\n",
       "      <th>min</th>\n",
       "      <td>1.000000</td>\n",
       "      <td>-3.527500e+06</td>\n",
       "    </tr>\n",
       "    <tr>\n",
       "      <th>25%</th>\n",
       "      <td>3.750000</td>\n",
       "      <td>-1.751925e+05</td>\n",
       "    </tr>\n",
       "    <tr>\n",
       "      <th>50%</th>\n",
       "      <td>6.500000</td>\n",
       "      <td>1.420000e+05</td>\n",
       "    </tr>\n",
       "    <tr>\n",
       "      <th>75%</th>\n",
       "      <td>9.250000</td>\n",
       "      <td>4.378755e+05</td>\n",
       "    </tr>\n",
       "    <tr>\n",
       "      <th>max</th>\n",
       "      <td>12.000000</td>\n",
       "      <td>3.410190e+06</td>\n",
       "    </tr>\n",
       "  </tbody>\n",
       "</table>\n",
       "</div>"
      ],
      "text/plain": [
       "            Month       Revenue\n",
       "count  144.000000  1.440000e+02\n",
       "mean     6.500000  9.189942e+04\n",
       "std      3.464102  1.341148e+06\n",
       "min      1.000000 -3.527500e+06\n",
       "25%      3.750000 -1.751925e+05\n",
       "50%      6.500000  1.420000e+05\n",
       "75%      9.250000  4.378755e+05\n",
       "max     12.000000  3.410190e+06"
      ]
     },
     "execution_count": 9,
     "metadata": {},
     "output_type": "execute_result"
    }
   ],
   "source": [
    "stadium.describe()"
   ]
  },
  {
   "cell_type": "code",
   "execution_count": 10,
   "id": "c415ea2f",
   "metadata": {},
   "outputs": [
    {
     "name": "stdout",
     "output_type": "stream",
     "text": [
      "<class 'pandas.core.frame.DataFrame'>\n",
      "RangeIndex: 144 entries, 0 to 143\n",
      "Data columns (total 3 columns):\n",
      " #   Column   Non-Null Count  Dtype \n",
      "---  ------   --------------  ----- \n",
      " 0   Month    144 non-null    int64 \n",
      " 1   Source   144 non-null    object\n",
      " 2   Revenue  144 non-null    int64 \n",
      "dtypes: int64(2), object(1)\n",
      "memory usage: 3.5+ KB\n"
     ]
    }
   ],
   "source": [
    "stadium.info()"
   ]
  },
  {
   "cell_type": "code",
   "execution_count": 12,
   "id": "b634a9c5",
   "metadata": {},
   "outputs": [
    {
     "data": {
      "application/vnd.microsoft.datawrangler.viewer.v0+json": {
       "columns": [
        {
         "name": "index",
         "rawType": "int64",
         "type": "integer"
        },
        {
         "name": "Product_ID",
         "rawType": "int64",
         "type": "integer"
        },
        {
         "name": "Barcode",
         "rawType": "int64",
         "type": "integer"
        },
        {
         "name": "Item_Category",
         "rawType": "object",
         "type": "string"
        },
        {
         "name": "Item_Name",
         "rawType": "object",
         "type": "string"
        },
        {
         "name": "Size",
         "rawType": "object",
         "type": "unknown"
        },
        {
         "name": "Unit_Price",
         "rawType": "int64",
         "type": "integer"
        },
        {
         "name": "Customer_Age_Group",
         "rawType": "object",
         "type": "string"
        },
        {
         "name": "Customer_Region",
         "rawType": "object",
         "type": "string"
        },
        {
         "name": "Promotion",
         "rawType": "bool",
         "type": "boolean"
        },
        {
         "name": "Channel",
         "rawType": "object",
         "type": "string"
        },
        {
         "name": "Selling_Date",
         "rawType": "object",
         "type": "string"
        },
        {
         "name": "Member_ID",
         "rawType": "int64",
         "type": "integer"
        },
        {
         "name": "Arrival_Date",
         "rawType": "object",
         "type": "unknown"
        }
       ],
       "ref": "e23593da-9182-4074-9f14-bef355bf0ac8",
       "rows": [
        [
         "0",
         "10000000",
         "20000000",
         "Cap",
         "Classic Cap",
         null,
         "35",
         "18–25",
         "Domestic",
         "False",
         "Online",
         "2024-02-14 09:30",
         "10008632",
         "2024-02-22 13:49"
        ],
        [
         "1",
         "10000000",
         "20000001",
         "Cap",
         "Classic Cap",
         null,
         "35",
         "26–40",
         "Domestic",
         "False",
         "Team Store",
         "2024-01-31 14:30",
         "10005467",
         null
        ],
        [
         "2",
         "10000000",
         "20000002",
         "Cap",
         "Classic Cap",
         null,
         "35",
         "18–25",
         "Domestic",
         "False",
         "Team Store",
         "2024-04-30 18:57",
         "10026081",
         null
        ],
        [
         "3",
         "10000000",
         "20000003",
         "Cap",
         "Classic Cap",
         null,
         "35",
         "<18",
         "Domestic",
         "True",
         "Online",
         "2024-02-01 18:25",
         "10005726",
         "2024-02-09 12:35"
        ],
        [
         "4",
         "10000000",
         "20000004",
         "Cap",
         "Classic Cap",
         null,
         "35",
         "<18",
         "International",
         "False",
         "Team Store",
         "2024-11-24 14:07",
         "10042598",
         null
        ]
       ],
       "shape": {
        "columns": 13,
        "rows": 5
       }
      },
      "text/html": [
       "<div>\n",
       "<style scoped>\n",
       "    .dataframe tbody tr th:only-of-type {\n",
       "        vertical-align: middle;\n",
       "    }\n",
       "\n",
       "    .dataframe tbody tr th {\n",
       "        vertical-align: top;\n",
       "    }\n",
       "\n",
       "    .dataframe thead th {\n",
       "        text-align: right;\n",
       "    }\n",
       "</style>\n",
       "<table border=\"1\" class=\"dataframe\">\n",
       "  <thead>\n",
       "    <tr style=\"text-align: right;\">\n",
       "      <th></th>\n",
       "      <th>Product_ID</th>\n",
       "      <th>Barcode</th>\n",
       "      <th>Item_Category</th>\n",
       "      <th>Item_Name</th>\n",
       "      <th>Size</th>\n",
       "      <th>Unit_Price</th>\n",
       "      <th>Customer_Age_Group</th>\n",
       "      <th>Customer_Region</th>\n",
       "      <th>Promotion</th>\n",
       "      <th>Channel</th>\n",
       "      <th>Selling_Date</th>\n",
       "      <th>Member_ID</th>\n",
       "      <th>Arrival_Date</th>\n",
       "    </tr>\n",
       "  </thead>\n",
       "  <tbody>\n",
       "    <tr>\n",
       "      <th>0</th>\n",
       "      <td>10000000</td>\n",
       "      <td>20000000</td>\n",
       "      <td>Cap</td>\n",
       "      <td>Classic Cap</td>\n",
       "      <td>NaN</td>\n",
       "      <td>35</td>\n",
       "      <td>18–25</td>\n",
       "      <td>Domestic</td>\n",
       "      <td>False</td>\n",
       "      <td>Online</td>\n",
       "      <td>2024-02-14 09:30</td>\n",
       "      <td>10008632</td>\n",
       "      <td>2024-02-22 13:49</td>\n",
       "    </tr>\n",
       "    <tr>\n",
       "      <th>1</th>\n",
       "      <td>10000000</td>\n",
       "      <td>20000001</td>\n",
       "      <td>Cap</td>\n",
       "      <td>Classic Cap</td>\n",
       "      <td>NaN</td>\n",
       "      <td>35</td>\n",
       "      <td>26–40</td>\n",
       "      <td>Domestic</td>\n",
       "      <td>False</td>\n",
       "      <td>Team Store</td>\n",
       "      <td>2024-01-31 14:30</td>\n",
       "      <td>10005467</td>\n",
       "      <td>NaN</td>\n",
       "    </tr>\n",
       "    <tr>\n",
       "      <th>2</th>\n",
       "      <td>10000000</td>\n",
       "      <td>20000002</td>\n",
       "      <td>Cap</td>\n",
       "      <td>Classic Cap</td>\n",
       "      <td>NaN</td>\n",
       "      <td>35</td>\n",
       "      <td>18–25</td>\n",
       "      <td>Domestic</td>\n",
       "      <td>False</td>\n",
       "      <td>Team Store</td>\n",
       "      <td>2024-04-30 18:57</td>\n",
       "      <td>10026081</td>\n",
       "      <td>NaN</td>\n",
       "    </tr>\n",
       "    <tr>\n",
       "      <th>3</th>\n",
       "      <td>10000000</td>\n",
       "      <td>20000003</td>\n",
       "      <td>Cap</td>\n",
       "      <td>Classic Cap</td>\n",
       "      <td>NaN</td>\n",
       "      <td>35</td>\n",
       "      <td>&lt;18</td>\n",
       "      <td>Domestic</td>\n",
       "      <td>True</td>\n",
       "      <td>Online</td>\n",
       "      <td>2024-02-01 18:25</td>\n",
       "      <td>10005726</td>\n",
       "      <td>2024-02-09 12:35</td>\n",
       "    </tr>\n",
       "    <tr>\n",
       "      <th>4</th>\n",
       "      <td>10000000</td>\n",
       "      <td>20000004</td>\n",
       "      <td>Cap</td>\n",
       "      <td>Classic Cap</td>\n",
       "      <td>NaN</td>\n",
       "      <td>35</td>\n",
       "      <td>&lt;18</td>\n",
       "      <td>International</td>\n",
       "      <td>False</td>\n",
       "      <td>Team Store</td>\n",
       "      <td>2024-11-24 14:07</td>\n",
       "      <td>10042598</td>\n",
       "      <td>NaN</td>\n",
       "    </tr>\n",
       "  </tbody>\n",
       "</table>\n",
       "</div>"
      ],
      "text/plain": [
       "   Product_ID   Barcode Item_Category    Item_Name Size  Unit_Price  \\\n",
       "0    10000000  20000000           Cap  Classic Cap  NaN          35   \n",
       "1    10000000  20000001           Cap  Classic Cap  NaN          35   \n",
       "2    10000000  20000002           Cap  Classic Cap  NaN          35   \n",
       "3    10000000  20000003           Cap  Classic Cap  NaN          35   \n",
       "4    10000000  20000004           Cap  Classic Cap  NaN          35   \n",
       "\n",
       "  Customer_Age_Group Customer_Region  Promotion     Channel      Selling_Date  \\\n",
       "0              18–25        Domestic      False      Online  2024-02-14 09:30   \n",
       "1              26–40        Domestic      False  Team Store  2024-01-31 14:30   \n",
       "2              18–25        Domestic      False  Team Store  2024-04-30 18:57   \n",
       "3                <18        Domestic       True      Online  2024-02-01 18:25   \n",
       "4                <18   International      False  Team Store  2024-11-24 14:07   \n",
       "\n",
       "   Member_ID      Arrival_Date  \n",
       "0   10008632  2024-02-22 13:49  \n",
       "1   10005467               NaN  \n",
       "2   10026081               NaN  \n",
       "3   10005726  2024-02-09 12:35  \n",
       "4   10042598               NaN  "
      ]
     },
     "execution_count": 12,
     "metadata": {},
     "output_type": "execute_result"
    }
   ],
   "source": [
    "merch.head()"
   ]
  },
  {
   "cell_type": "code",
   "execution_count": 14,
   "id": "ff27b76f",
   "metadata": {},
   "outputs": [
    {
     "data": {
      "application/vnd.microsoft.datawrangler.viewer.v0+json": {
       "columns": [
        {
         "name": "index",
         "rawType": "object",
         "type": "string"
        },
        {
         "name": "Product_ID",
         "rawType": "float64",
         "type": "float"
        },
        {
         "name": "Barcode",
         "rawType": "float64",
         "type": "float"
        },
        {
         "name": "Unit_Price",
         "rawType": "float64",
         "type": "float"
        },
        {
         "name": "Member_ID",
         "rawType": "float64",
         "type": "float"
        }
       ],
       "ref": "c8b19ba6-dfab-41ea-9091-656e0be94c18",
       "rows": [
        [
         "count",
         "67877.0",
         "67877.0",
         "67877.0",
         "67877.0"
        ],
        [
         "mean",
         "10000006.50818392",
         "20033938.0",
         "95.12988199242749",
         "10022264.325986711"
        ],
        [
         "std",
         "4.6030168921350505",
         "19594.5464479278",
         "49.89356296833858",
         "12841.300527134283"
        ],
        [
         "min",
         "10000000.0",
         "20000000.0",
         "20.0",
         "10000000.0"
        ],
        [
         "25%",
         "10000003.0",
         "20016969.0",
         "50.0",
         "10011147.0"
        ],
        [
         "50%",
         "10000005.0",
         "20033938.0",
         "75.0",
         "10022288.0"
        ],
        [
         "75%",
         "10000009.0",
         "20050907.0",
         "152.0",
         "10033377.0"
        ],
        [
         "max",
         "10000017.0",
         "20067876.0",
         "152.0",
         "10044517.0"
        ]
       ],
       "shape": {
        "columns": 4,
        "rows": 8
       }
      },
      "text/html": [
       "<div>\n",
       "<style scoped>\n",
       "    .dataframe tbody tr th:only-of-type {\n",
       "        vertical-align: middle;\n",
       "    }\n",
       "\n",
       "    .dataframe tbody tr th {\n",
       "        vertical-align: top;\n",
       "    }\n",
       "\n",
       "    .dataframe thead th {\n",
       "        text-align: right;\n",
       "    }\n",
       "</style>\n",
       "<table border=\"1\" class=\"dataframe\">\n",
       "  <thead>\n",
       "    <tr style=\"text-align: right;\">\n",
       "      <th></th>\n",
       "      <th>Product_ID</th>\n",
       "      <th>Barcode</th>\n",
       "      <th>Unit_Price</th>\n",
       "      <th>Member_ID</th>\n",
       "    </tr>\n",
       "  </thead>\n",
       "  <tbody>\n",
       "    <tr>\n",
       "      <th>count</th>\n",
       "      <td>6.787700e+04</td>\n",
       "      <td>6.787700e+04</td>\n",
       "      <td>67877.000000</td>\n",
       "      <td>6.787700e+04</td>\n",
       "    </tr>\n",
       "    <tr>\n",
       "      <th>mean</th>\n",
       "      <td>1.000001e+07</td>\n",
       "      <td>2.003394e+07</td>\n",
       "      <td>95.129882</td>\n",
       "      <td>1.002226e+07</td>\n",
       "    </tr>\n",
       "    <tr>\n",
       "      <th>std</th>\n",
       "      <td>4.603017e+00</td>\n",
       "      <td>1.959455e+04</td>\n",
       "      <td>49.893563</td>\n",
       "      <td>1.284130e+04</td>\n",
       "    </tr>\n",
       "    <tr>\n",
       "      <th>min</th>\n",
       "      <td>1.000000e+07</td>\n",
       "      <td>2.000000e+07</td>\n",
       "      <td>20.000000</td>\n",
       "      <td>1.000000e+07</td>\n",
       "    </tr>\n",
       "    <tr>\n",
       "      <th>25%</th>\n",
       "      <td>1.000000e+07</td>\n",
       "      <td>2.001697e+07</td>\n",
       "      <td>50.000000</td>\n",
       "      <td>1.001115e+07</td>\n",
       "    </tr>\n",
       "    <tr>\n",
       "      <th>50%</th>\n",
       "      <td>1.000000e+07</td>\n",
       "      <td>2.003394e+07</td>\n",
       "      <td>75.000000</td>\n",
       "      <td>1.002229e+07</td>\n",
       "    </tr>\n",
       "    <tr>\n",
       "      <th>75%</th>\n",
       "      <td>1.000001e+07</td>\n",
       "      <td>2.005091e+07</td>\n",
       "      <td>152.000000</td>\n",
       "      <td>1.003338e+07</td>\n",
       "    </tr>\n",
       "    <tr>\n",
       "      <th>max</th>\n",
       "      <td>1.000002e+07</td>\n",
       "      <td>2.006788e+07</td>\n",
       "      <td>152.000000</td>\n",
       "      <td>1.004452e+07</td>\n",
       "    </tr>\n",
       "  </tbody>\n",
       "</table>\n",
       "</div>"
      ],
      "text/plain": [
       "         Product_ID       Barcode    Unit_Price     Member_ID\n",
       "count  6.787700e+04  6.787700e+04  67877.000000  6.787700e+04\n",
       "mean   1.000001e+07  2.003394e+07     95.129882  1.002226e+07\n",
       "std    4.603017e+00  1.959455e+04     49.893563  1.284130e+04\n",
       "min    1.000000e+07  2.000000e+07     20.000000  1.000000e+07\n",
       "25%    1.000000e+07  2.001697e+07     50.000000  1.001115e+07\n",
       "50%    1.000000e+07  2.003394e+07     75.000000  1.002229e+07\n",
       "75%    1.000001e+07  2.005091e+07    152.000000  1.003338e+07\n",
       "max    1.000002e+07  2.006788e+07    152.000000  1.004452e+07"
      ]
     },
     "execution_count": 14,
     "metadata": {},
     "output_type": "execute_result"
    }
   ],
   "source": [
    "merch.describe()"
   ]
  },
  {
   "cell_type": "code",
   "execution_count": 15,
   "id": "69049b2f",
   "metadata": {},
   "outputs": [
    {
     "name": "stdout",
     "output_type": "stream",
     "text": [
      "<class 'pandas.core.frame.DataFrame'>\n",
      "RangeIndex: 67877 entries, 0 to 67876\n",
      "Data columns (total 13 columns):\n",
      " #   Column              Non-Null Count  Dtype \n",
      "---  ------              --------------  ----- \n",
      " 0   Product_ID          67877 non-null  int64 \n",
      " 1   Barcode             67877 non-null  int64 \n",
      " 2   Item_Category       67877 non-null  object\n",
      " 3   Item_Name           67877 non-null  object\n",
      " 4   Size                52041 non-null  object\n",
      " 5   Unit_Price          67877 non-null  int64 \n",
      " 6   Customer_Age_Group  67877 non-null  object\n",
      " 7   Customer_Region     67877 non-null  object\n",
      " 8   Promotion           67877 non-null  bool  \n",
      " 9   Channel             67877 non-null  object\n",
      " 10  Selling_Date        67877 non-null  object\n",
      " 11  Member_ID           67877 non-null  int64 \n",
      " 12  Arrival_Date        54302 non-null  object\n",
      "dtypes: bool(1), int64(4), object(8)\n",
      "memory usage: 6.3+ MB\n"
     ]
    }
   ],
   "source": [
    "merch.info()"
   ]
  },
  {
   "cell_type": "code",
   "execution_count": 16,
   "id": "d97938b0",
   "metadata": {},
   "outputs": [
    {
     "data": {
      "application/vnd.microsoft.datawrangler.viewer.v0+json": {
       "columns": [
        {
         "name": "index",
         "rawType": "int64",
         "type": "integer"
        },
        {
         "name": "Membership_ID",
         "rawType": "int64",
         "type": "integer"
        },
        {
         "name": "Age_Group",
         "rawType": "object",
         "type": "string"
        },
        {
         "name": "Games_Attended",
         "rawType": "int64",
         "type": "integer"
        },
        {
         "name": "Seasonal_Pass",
         "rawType": "bool",
         "type": "boolean"
        },
        {
         "name": "Customer_Region",
         "rawType": "object",
         "type": "string"
        }
       ],
       "ref": "87df0a46-7c18-409a-b48f-bee0a5858de3",
       "rows": [
        [
         "0",
         "10218708",
         "18-25",
         "3",
         "False",
         "Canada"
        ],
        [
         "1",
         "10043567",
         "18-25",
         "2",
         "False",
         "Canada"
        ],
        [
         "2",
         "14272475",
         "41-60",
         "2",
         "False",
         "Canada"
        ],
        [
         "3",
         "10034985",
         "18-25",
         "5",
         "False",
         "Canada"
        ],
        [
         "4",
         "10004699",
         "18-25",
         "7",
         "False",
         "Canada"
        ]
       ],
       "shape": {
        "columns": 5,
        "rows": 5
       }
      },
      "text/html": [
       "<div>\n",
       "<style scoped>\n",
       "    .dataframe tbody tr th:only-of-type {\n",
       "        vertical-align: middle;\n",
       "    }\n",
       "\n",
       "    .dataframe tbody tr th {\n",
       "        vertical-align: top;\n",
       "    }\n",
       "\n",
       "    .dataframe thead th {\n",
       "        text-align: right;\n",
       "    }\n",
       "</style>\n",
       "<table border=\"1\" class=\"dataframe\">\n",
       "  <thead>\n",
       "    <tr style=\"text-align: right;\">\n",
       "      <th></th>\n",
       "      <th>Membership_ID</th>\n",
       "      <th>Age_Group</th>\n",
       "      <th>Games_Attended</th>\n",
       "      <th>Seasonal_Pass</th>\n",
       "      <th>Customer_Region</th>\n",
       "    </tr>\n",
       "  </thead>\n",
       "  <tbody>\n",
       "    <tr>\n",
       "      <th>0</th>\n",
       "      <td>10218708</td>\n",
       "      <td>18-25</td>\n",
       "      <td>3</td>\n",
       "      <td>False</td>\n",
       "      <td>Canada</td>\n",
       "    </tr>\n",
       "    <tr>\n",
       "      <th>1</th>\n",
       "      <td>10043567</td>\n",
       "      <td>18-25</td>\n",
       "      <td>2</td>\n",
       "      <td>False</td>\n",
       "      <td>Canada</td>\n",
       "    </tr>\n",
       "    <tr>\n",
       "      <th>2</th>\n",
       "      <td>14272475</td>\n",
       "      <td>41-60</td>\n",
       "      <td>2</td>\n",
       "      <td>False</td>\n",
       "      <td>Canada</td>\n",
       "    </tr>\n",
       "    <tr>\n",
       "      <th>3</th>\n",
       "      <td>10034985</td>\n",
       "      <td>18-25</td>\n",
       "      <td>5</td>\n",
       "      <td>False</td>\n",
       "      <td>Canada</td>\n",
       "    </tr>\n",
       "    <tr>\n",
       "      <th>4</th>\n",
       "      <td>10004699</td>\n",
       "      <td>18-25</td>\n",
       "      <td>7</td>\n",
       "      <td>False</td>\n",
       "      <td>Canada</td>\n",
       "    </tr>\n",
       "  </tbody>\n",
       "</table>\n",
       "</div>"
      ],
      "text/plain": [
       "   Membership_ID Age_Group  Games_Attended  Seasonal_Pass Customer_Region\n",
       "0       10218708     18-25               3          False          Canada\n",
       "1       10043567     18-25               2          False          Canada\n",
       "2       14272475     41-60               2          False          Canada\n",
       "3       10034985     18-25               5          False          Canada\n",
       "4       10004699     18-25               7          False          Canada"
      ]
     },
     "execution_count": 16,
     "metadata": {},
     "output_type": "execute_result"
    }
   ],
   "source": [
    "fanbase.head()"
   ]
  },
  {
   "cell_type": "code",
   "execution_count": 17,
   "id": "781a0baf",
   "metadata": {},
   "outputs": [
    {
     "data": {
      "application/vnd.microsoft.datawrangler.viewer.v0+json": {
       "columns": [
        {
         "name": "index",
         "rawType": "object",
         "type": "string"
        },
        {
         "name": "Membership_ID",
         "rawType": "float64",
         "type": "float"
        },
        {
         "name": "Games_Attended",
         "rawType": "float64",
         "type": "float"
        }
       ],
       "ref": "5b71fae4-ab1a-4646-8c74-386902cfc286",
       "rows": [
        [
         "count",
         "70000.0",
         "70000.0"
        ],
        [
         "mean",
         "24641244.424057145",
         "5.7114142857142856"
        ],
        [
         "std",
         "25950105.393212203",
         "5.168149696191357"
        ],
        [
         "min",
         "1370.0",
         "1.0"
        ],
        [
         "25%",
         "10015097.75",
         "3.0"
        ],
        [
         "50%",
         "10032597.5",
         "5.0"
        ],
        [
         "75%",
         "31678216.75",
         "7.0"
        ],
        [
         "max",
         "99999245.0",
         "30.0"
        ]
       ],
       "shape": {
        "columns": 2,
        "rows": 8
       }
      },
      "text/html": [
       "<div>\n",
       "<style scoped>\n",
       "    .dataframe tbody tr th:only-of-type {\n",
       "        vertical-align: middle;\n",
       "    }\n",
       "\n",
       "    .dataframe tbody tr th {\n",
       "        vertical-align: top;\n",
       "    }\n",
       "\n",
       "    .dataframe thead th {\n",
       "        text-align: right;\n",
       "    }\n",
       "</style>\n",
       "<table border=\"1\" class=\"dataframe\">\n",
       "  <thead>\n",
       "    <tr style=\"text-align: right;\">\n",
       "      <th></th>\n",
       "      <th>Membership_ID</th>\n",
       "      <th>Games_Attended</th>\n",
       "    </tr>\n",
       "  </thead>\n",
       "  <tbody>\n",
       "    <tr>\n",
       "      <th>count</th>\n",
       "      <td>7.000000e+04</td>\n",
       "      <td>70000.000000</td>\n",
       "    </tr>\n",
       "    <tr>\n",
       "      <th>mean</th>\n",
       "      <td>2.464124e+07</td>\n",
       "      <td>5.711414</td>\n",
       "    </tr>\n",
       "    <tr>\n",
       "      <th>std</th>\n",
       "      <td>2.595011e+07</td>\n",
       "      <td>5.168150</td>\n",
       "    </tr>\n",
       "    <tr>\n",
       "      <th>min</th>\n",
       "      <td>1.370000e+03</td>\n",
       "      <td>1.000000</td>\n",
       "    </tr>\n",
       "    <tr>\n",
       "      <th>25%</th>\n",
       "      <td>1.001510e+07</td>\n",
       "      <td>3.000000</td>\n",
       "    </tr>\n",
       "    <tr>\n",
       "      <th>50%</th>\n",
       "      <td>1.003260e+07</td>\n",
       "      <td>5.000000</td>\n",
       "    </tr>\n",
       "    <tr>\n",
       "      <th>75%</th>\n",
       "      <td>3.167822e+07</td>\n",
       "      <td>7.000000</td>\n",
       "    </tr>\n",
       "    <tr>\n",
       "      <th>max</th>\n",
       "      <td>9.999924e+07</td>\n",
       "      <td>30.000000</td>\n",
       "    </tr>\n",
       "  </tbody>\n",
       "</table>\n",
       "</div>"
      ],
      "text/plain": [
       "       Membership_ID  Games_Attended\n",
       "count   7.000000e+04    70000.000000\n",
       "mean    2.464124e+07        5.711414\n",
       "std     2.595011e+07        5.168150\n",
       "min     1.370000e+03        1.000000\n",
       "25%     1.001510e+07        3.000000\n",
       "50%     1.003260e+07        5.000000\n",
       "75%     3.167822e+07        7.000000\n",
       "max     9.999924e+07       30.000000"
      ]
     },
     "execution_count": 17,
     "metadata": {},
     "output_type": "execute_result"
    }
   ],
   "source": [
    "fanbase.describe()"
   ]
  },
  {
   "cell_type": "code",
   "execution_count": 18,
   "id": "02675e13",
   "metadata": {},
   "outputs": [
    {
     "name": "stdout",
     "output_type": "stream",
     "text": [
      "<class 'pandas.core.frame.DataFrame'>\n",
      "RangeIndex: 70000 entries, 0 to 69999\n",
      "Data columns (total 5 columns):\n",
      " #   Column           Non-Null Count  Dtype \n",
      "---  ------           --------------  ----- \n",
      " 0   Membership_ID    70000 non-null  int64 \n",
      " 1   Age_Group        70000 non-null  object\n",
      " 2   Games_Attended   70000 non-null  int64 \n",
      " 3   Seasonal_Pass    70000 non-null  bool  \n",
      " 4   Customer_Region  70000 non-null  object\n",
      "dtypes: bool(1), int64(2), object(2)\n",
      "memory usage: 2.2+ MB\n"
     ]
    }
   ],
   "source": [
    "fanbase.info()"
   ]
  },
  {
   "cell_type": "markdown",
   "id": "e4a8c0a9",
   "metadata": {},
   "source": [
    "Initial findings: no need to drop duplicates, several null values in merch: size and merch: arrival date"
   ]
  }
 ],
 "metadata": {
  "kernelspec": {
   "display_name": "base",
   "language": "python",
   "name": "python3"
  },
  "language_info": {
   "codemirror_mode": {
    "name": "ipython",
    "version": 3
   },
   "file_extension": ".py",
   "mimetype": "text/x-python",
   "name": "python",
   "nbconvert_exporter": "python",
   "pygments_lexer": "ipython3",
   "version": "3.12.11"
  }
 },
 "nbformat": 4,
 "nbformat_minor": 5
}
