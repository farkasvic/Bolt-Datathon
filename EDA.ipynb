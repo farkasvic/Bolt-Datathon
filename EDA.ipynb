{
 "cells": [
  {
   "cell_type": "code",
   "execution_count": 34,
   "id": "f88b7a7b",
   "metadata": {},
   "outputs": [],
   "source": [
    "import pandas as pd\n",
    "import numpy as np\n",
    "import altair as alt"
   ]
  },
  {
   "cell_type": "code",
   "execution_count": 21,
   "id": "46689c64",
   "metadata": {},
   "outputs": [],
   "source": [
    "merch = pd.read_csv('data/raw/BOLT UBC First Byte - Merchandise Sales.csv')\n",
    "\n",
    "fanbase = pd.read_csv('data/raw/BOLT UBC First Byte - Fanbase Engagement.csv')\n",
    "\n",
    "stadium = pd.read_csv('data/raw/BOLT UBC First Byte - Stadium Operations.csv')"
   ]
  },
  {
   "cell_type": "code",
   "execution_count": 22,
   "id": "357d4269",
   "metadata": {},
   "outputs": [],
   "source": [
    "#function for initial inspection of the three datasets\n",
    "\n",
    "def inspect_data(df):\n",
    "    head = df.head()\n",
    "    describe = df.describe()\n",
    "    info = df.info()\n",
    "\n",
    "    return(head, describe, info)"
   ]
  },
  {
   "cell_type": "markdown",
   "id": "33a86031",
   "metadata": {},
   "source": [
    "## Data Inspection"
   ]
  },
  {
   "cell_type": "code",
   "execution_count": 23,
   "id": "090c92f7",
   "metadata": {},
   "outputs": [
    {
     "name": "stdout",
     "output_type": "stream",
     "text": [
      "<class 'pandas.core.frame.DataFrame'>\n",
      "RangeIndex: 144 entries, 0 to 143\n",
      "Data columns (total 3 columns):\n",
      " #   Column   Non-Null Count  Dtype \n",
      "---  ------   --------------  ----- \n",
      " 0   Month    144 non-null    int64 \n",
      " 1   Source   144 non-null    object\n",
      " 2   Revenue  144 non-null    int64 \n",
      "dtypes: int64(2), object(1)\n",
      "memory usage: 3.5+ KB\n"
     ]
    },
    {
     "data": {
      "text/plain": [
       "(   Month      Source  Revenue\n",
       " 0      1  Upper Bowl    25020\n",
       " 1      2  Upper Bowl   686664\n",
       " 2      3  Upper Bowl   434112\n",
       " 3      4  Upper Bowl   390879\n",
       " 4      5  Upper Bowl   286524,\n",
       "             Month       Revenue\n",
       " count  144.000000  1.440000e+02\n",
       " mean     6.500000  9.189942e+04\n",
       " std      3.464102  1.341148e+06\n",
       " min      1.000000 -3.527500e+06\n",
       " 25%      3.750000 -1.751925e+05\n",
       " 50%      6.500000  1.420000e+05\n",
       " 75%      9.250000  4.378755e+05\n",
       " max     12.000000  3.410190e+06,\n",
       " None)"
      ]
     },
     "execution_count": 23,
     "metadata": {},
     "output_type": "execute_result"
    }
   ],
   "source": [
    "inspect_data(stadium)"
   ]
  },
  {
   "cell_type": "code",
   "execution_count": 44,
   "id": "4245bc19",
   "metadata": {},
   "outputs": [
    {
     "data": {
      "application/vnd.microsoft.datawrangler.viewer.v0+json": {
       "columns": [
        {
         "name": "index",
         "rawType": "int64",
         "type": "integer"
        },
        {
         "name": "Selling_Date",
         "rawType": "datetime64[ns]",
         "type": "datetime"
        }
       ],
       "ref": "2ddbc90e-ddcc-4d2c-8986-7fb09a5fb661",
       "rows": [
        [
         "27851",
         "2023-12-01 04:42:00"
        ],
        [
         "30472",
         "2023-12-01 06:03:00"
        ],
        [
         "49291",
         "2023-12-01 23:55:00"
        ],
        [
         "17289",
         "2023-12-01 04:16:00"
        ],
        [
         "12321",
         "2023-12-01 01:30:00"
        ],
        [
         "18083",
         "2023-12-01 07:29:00"
        ],
        [
         "22417",
         "2023-12-01 22:31:00"
        ],
        [
         "63881",
         "2023-12-01 17:12:00"
        ],
        [
         "28117",
         "2023-12-01 11:31:00"
        ],
        [
         "64579",
         "2023-12-01 21:17:00"
        ],
        [
         "13965",
         "2023-12-01 02:19:00"
        ],
        [
         "16638",
         "2023-12-02 16:26:00"
        ],
        [
         "18817",
         "2023-12-02 20:00:00"
        ],
        [
         "1477",
         "2023-12-02 06:15:00"
        ],
        [
         "12491",
         "2023-12-01 05:45:00"
        ],
        [
         "100",
         "2023-12-02 02:27:00"
        ],
        [
         "27936",
         "2023-12-01 00:38:00"
        ],
        [
         "25608",
         "2023-12-01 17:12:00"
        ],
        [
         "51238",
         "2023-12-01 02:33:00"
        ],
        [
         "21991",
         "2023-12-02 20:45:00"
        ],
        [
         "56901",
         "2023-12-01 06:13:00"
        ],
        [
         "46262",
         "2023-12-01 20:43:00"
        ],
        [
         "48912",
         "2023-12-02 02:57:00"
        ],
        [
         "5546",
         "2023-12-01 12:03:00"
        ],
        [
         "6345",
         "2023-12-02 06:19:00"
        ],
        [
         "22135",
         "2023-12-01 00:02:00"
        ],
        [
         "48520",
         "2023-12-01 00:10:00"
        ],
        [
         "26762",
         "2023-12-01 20:14:00"
        ],
        [
         "6402",
         "2023-12-01 08:56:00"
        ],
        [
         "60745",
         "2023-12-01 15:15:00"
        ],
        [
         "52572",
         "2023-12-01 01:35:00"
        ],
        [
         "11110",
         "2023-12-01 19:54:00"
        ],
        [
         "12488",
         "2023-12-01 13:32:00"
        ],
        [
         "51755",
         "2023-12-01 18:36:00"
        ],
        [
         "56966",
         "2023-12-02 22:45:00"
        ],
        [
         "23365",
         "2023-12-01 13:40:00"
        ],
        [
         "58160",
         "2023-12-01 00:44:00"
        ],
        [
         "1507",
         "2023-12-02 04:11:00"
        ],
        [
         "29694",
         "2023-12-03 06:16:00"
        ],
        [
         "1679",
         "2023-12-01 00:35:00"
        ],
        [
         "44349",
         "2023-12-01 10:33:00"
        ],
        [
         "16877",
         "2023-12-01 00:23:00"
        ],
        [
         "49895",
         "2023-12-02 21:17:00"
        ],
        [
         "18668",
         "2023-12-03 16:57:00"
        ],
        [
         "65197",
         "2023-12-01 06:17:00"
        ],
        [
         "30048",
         "2023-12-02 12:29:00"
        ],
        [
         "44368",
         "2023-12-02 17:47:00"
        ],
        [
         "61998",
         "2023-12-03 09:18:00"
        ],
        [
         "56646",
         "2023-12-02 22:42:00"
        ],
        [
         "48377",
         "2023-12-01 06:29:00"
        ]
       ],
       "shape": {
        "columns": 1,
        "rows": 67877
       }
      },
      "text/plain": [
       "27851   2023-12-01 04:42:00\n",
       "30472   2023-12-01 06:03:00\n",
       "49291   2023-12-01 23:55:00\n",
       "17289   2023-12-01 04:16:00\n",
       "12321   2023-12-01 01:30:00\n",
       "                ...        \n",
       "67824   2024-04-19 13:43:00\n",
       "67827   2024-07-05 17:46:00\n",
       "67829   2024-11-08 18:58:00\n",
       "67841   2024-02-23 16:45:00\n",
       "67848   2023-12-30 14:01:00\n",
       "Name: Selling_Date, Length: 67877, dtype: datetime64[ns]"
      ]
     },
     "execution_count": 44,
     "metadata": {},
     "output_type": "execute_result"
    }
   ],
   "source": [
    "pd.to_datetime(merch['Arrival_Date'], errors='coerce')\n",
    "pd.to_datetime(merch['Selling_Date'], errors='coerce')"
   ]
  },
  {
   "cell_type": "code",
   "execution_count": 42,
   "id": "2d1c8819",
   "metadata": {},
   "outputs": [
    {
     "name": "stdout",
     "output_type": "stream",
     "text": [
      "<class 'pandas.core.frame.DataFrame'>\n",
      "Index: 67877 entries, 27851 to 67848\n",
      "Data columns (total 13 columns):\n",
      " #   Column              Non-Null Count  Dtype \n",
      "---  ------              --------------  ----- \n",
      " 0   Product_ID          67877 non-null  int64 \n",
      " 1   Barcode             67877 non-null  int64 \n",
      " 2   Item_Category       67877 non-null  object\n",
      " 3   Item_Name           67877 non-null  object\n",
      " 4   Size                67877 non-null  object\n",
      " 5   Unit_Price          67877 non-null  int64 \n",
      " 6   Customer_Age_Group  67877 non-null  object\n",
      " 7   Customer_Region     67877 non-null  object\n",
      " 8   Promotion           67877 non-null  bool  \n",
      " 9   Channel             67877 non-null  object\n",
      " 10  Selling_Date        67877 non-null  object\n",
      " 11  Member_ID           67877 non-null  int64 \n",
      " 12  Arrival_Date        67877 non-null  object\n",
      "dtypes: bool(1), int64(4), object(8)\n",
      "memory usage: 6.8+ MB\n"
     ]
    },
    {
     "data": {
      "text/plain": [
       "(       Product_ID   Barcode Item_Category        Item_Name     Size  \\\n",
       " 27851    10000008  20027851           Mug         Logo Mug  Missing   \n",
       " 30472    10000002  20030472        Hoodie      Team Hoodie      XXL   \n",
       " 49291    10000003  20049291        Hoodie  Training Hoodie      XXL   \n",
       " 17289    10000001  20017289           Cap        Retro Cap  Missing   \n",
       " 12321    10000001  20012321           Cap        Retro Cap  Missing   \n",
       " \n",
       "        Unit_Price Customer_Age_Group Customer_Region  Promotion Channel  \\\n",
       " 27851          25              18–25        Domestic      False  Online   \n",
       " 30472          75              41–60        Domestic       True  Online   \n",
       " 49291          75              18–25        Domestic       True  Online   \n",
       " 17289          35              41–60        Domestic      False  Online   \n",
       " 12321          35              41–60        Domestic      False  Online   \n",
       " \n",
       "            Selling_Date  Member_ID      Arrival_Date  \n",
       " 27851  2023-12-01 04:42   10000024  2023-12-06 09:25  \n",
       " 30472  2023-12-01 06:03   10000022  2023-12-06 17:24  \n",
       " 49291  2023-12-01 23:55   10000069  2023-12-07 10:35  \n",
       " 17289  2023-12-01 04:16   10000034  2023-12-07 11:20  \n",
       " 12321  2023-12-01 01:30   10000033  2023-12-07 11:48  ,\n",
       "          Product_ID       Barcode    Unit_Price     Member_ID\n",
       " count  6.787700e+04  6.787700e+04  67877.000000  6.787700e+04\n",
       " mean   1.000001e+07  2.003394e+07     95.129882  1.002226e+07\n",
       " std    4.603017e+00  1.959455e+04     49.893563  1.284130e+04\n",
       " min    1.000000e+07  2.000000e+07     20.000000  1.000000e+07\n",
       " 25%    1.000000e+07  2.001697e+07     50.000000  1.001115e+07\n",
       " 50%    1.000000e+07  2.003394e+07     75.000000  1.002229e+07\n",
       " 75%    1.000001e+07  2.005091e+07    152.000000  1.003338e+07\n",
       " max    1.000002e+07  2.006788e+07    152.000000  1.004452e+07,\n",
       " None)"
      ]
     },
     "execution_count": 42,
     "metadata": {},
     "output_type": "execute_result"
    }
   ],
   "source": [
    "inspect_data(merch)"
   ]
  },
  {
   "cell_type": "code",
   "execution_count": 25,
   "id": "9588354c",
   "metadata": {},
   "outputs": [
    {
     "name": "stdout",
     "output_type": "stream",
     "text": [
      "<class 'pandas.core.frame.DataFrame'>\n",
      "RangeIndex: 70000 entries, 0 to 69999\n",
      "Data columns (total 5 columns):\n",
      " #   Column           Non-Null Count  Dtype \n",
      "---  ------           --------------  ----- \n",
      " 0   Membership_ID    70000 non-null  int64 \n",
      " 1   Age_Group        70000 non-null  object\n",
      " 2   Games_Attended   70000 non-null  int64 \n",
      " 3   Seasonal_Pass    70000 non-null  bool  \n",
      " 4   Customer_Region  70000 non-null  object\n",
      "dtypes: bool(1), int64(2), object(2)\n",
      "memory usage: 2.2+ MB\n"
     ]
    },
    {
     "data": {
      "text/plain": [
       "(   Membership_ID Age_Group  Games_Attended  Seasonal_Pass Customer_Region\n",
       " 0       10218708     18-25               3          False          Canada\n",
       " 1       10043567     18-25               2          False          Canada\n",
       " 2       14272475     41-60               2          False          Canada\n",
       " 3       10034985     18-25               5          False          Canada\n",
       " 4       10004699     18-25               7          False          Canada,\n",
       "        Membership_ID  Games_Attended\n",
       " count   7.000000e+04    70000.000000\n",
       " mean    2.464124e+07        5.711414\n",
       " std     2.595011e+07        5.168150\n",
       " min     1.370000e+03        1.000000\n",
       " 25%     1.001510e+07        3.000000\n",
       " 50%     1.003260e+07        5.000000\n",
       " 75%     3.167822e+07        7.000000\n",
       " max     9.999924e+07       30.000000,\n",
       " None)"
      ]
     },
     "execution_count": 25,
     "metadata": {},
     "output_type": "execute_result"
    }
   ],
   "source": [
    "inspect_data(fanbase)"
   ]
  },
  {
   "cell_type": "markdown",
   "id": "8f41e0fa",
   "metadata": {},
   "source": [
    "## Impute Nulls"
   ]
  },
  {
   "cell_type": "markdown",
   "id": "e4a8c0a9",
   "metadata": {},
   "source": [
    "Initial findings: several null values in merch: size and merch: arrival date. Try imputing missing values for merch sizing with 'Missing' value, imputing missing values for arrival date with a forward fill, after sorting by date."
   ]
  },
  {
   "cell_type": "code",
   "execution_count": 26,
   "id": "3a7b4f29",
   "metadata": {},
   "outputs": [],
   "source": [
    "merch['Size'] = merch['Size'].fillna('Missing')\n",
    "\n",
    "merch = merch.sort_values(by='Arrival_Date')\n",
    "\n",
    "merch['Arrival_Date'] = merch['Arrival_Date'].ffill()"
   ]
  },
  {
   "cell_type": "code",
   "execution_count": 27,
   "id": "354bd3f3",
   "metadata": {},
   "outputs": [
    {
     "name": "stdout",
     "output_type": "stream",
     "text": [
      "<class 'pandas.core.frame.DataFrame'>\n",
      "Index: 67877 entries, 27851 to 67848\n",
      "Data columns (total 13 columns):\n",
      " #   Column              Non-Null Count  Dtype \n",
      "---  ------              --------------  ----- \n",
      " 0   Product_ID          67877 non-null  int64 \n",
      " 1   Barcode             67877 non-null  int64 \n",
      " 2   Item_Category       67877 non-null  object\n",
      " 3   Item_Name           67877 non-null  object\n",
      " 4   Size                67877 non-null  object\n",
      " 5   Unit_Price          67877 non-null  int64 \n",
      " 6   Customer_Age_Group  67877 non-null  object\n",
      " 7   Customer_Region     67877 non-null  object\n",
      " 8   Promotion           67877 non-null  bool  \n",
      " 9   Channel             67877 non-null  object\n",
      " 10  Selling_Date        67877 non-null  object\n",
      " 11  Member_ID           67877 non-null  int64 \n",
      " 12  Arrival_Date        67877 non-null  object\n",
      "dtypes: bool(1), int64(4), object(8)\n",
      "memory usage: 6.8+ MB\n"
     ]
    },
    {
     "data": {
      "text/plain": [
       "(       Product_ID   Barcode Item_Category        Item_Name     Size  \\\n",
       " 27851    10000008  20027851           Mug         Logo Mug  Missing   \n",
       " 30472    10000002  20030472        Hoodie      Team Hoodie      XXL   \n",
       " 49291    10000003  20049291        Hoodie  Training Hoodie      XXL   \n",
       " 17289    10000001  20017289           Cap        Retro Cap  Missing   \n",
       " 12321    10000001  20012321           Cap        Retro Cap  Missing   \n",
       " \n",
       "        Unit_Price Customer_Age_Group Customer_Region  Promotion Channel  \\\n",
       " 27851          25              18–25        Domestic      False  Online   \n",
       " 30472          75              41–60        Domestic       True  Online   \n",
       " 49291          75              18–25        Domestic       True  Online   \n",
       " 17289          35              41–60        Domestic      False  Online   \n",
       " 12321          35              41–60        Domestic      False  Online   \n",
       " \n",
       "            Selling_Date  Member_ID      Arrival_Date  \n",
       " 27851  2023-12-01 04:42   10000024  2023-12-06 09:25  \n",
       " 30472  2023-12-01 06:03   10000022  2023-12-06 17:24  \n",
       " 49291  2023-12-01 23:55   10000069  2023-12-07 10:35  \n",
       " 17289  2023-12-01 04:16   10000034  2023-12-07 11:20  \n",
       " 12321  2023-12-01 01:30   10000033  2023-12-07 11:48  ,\n",
       "          Product_ID       Barcode    Unit_Price     Member_ID\n",
       " count  6.787700e+04  6.787700e+04  67877.000000  6.787700e+04\n",
       " mean   1.000001e+07  2.003394e+07     95.129882  1.002226e+07\n",
       " std    4.603017e+00  1.959455e+04     49.893563  1.284130e+04\n",
       " min    1.000000e+07  2.000000e+07     20.000000  1.000000e+07\n",
       " 25%    1.000000e+07  2.001697e+07     50.000000  1.001115e+07\n",
       " 50%    1.000000e+07  2.003394e+07     75.000000  1.002229e+07\n",
       " 75%    1.000001e+07  2.005091e+07    152.000000  1.003338e+07\n",
       " max    1.000002e+07  2.006788e+07    152.000000  1.004452e+07,\n",
       " None)"
      ]
     },
     "execution_count": 27,
     "metadata": {},
     "output_type": "execute_result"
    }
   ],
   "source": [
    "inspect_data(merch)"
   ]
  },
  {
   "cell_type": "code",
   "execution_count": 28,
   "id": "3f71d742",
   "metadata": {},
   "outputs": [
    {
     "name": "stdout",
     "output_type": "stream",
     "text": [
      "Unique values in 'Product_ID': [10000008 10000002 10000003 10000001 10000000 10000006 10000012 10000015\n",
      " 10000009 10000014 10000011 10000013 10000005 10000004 10000007 10000010\n",
      " 10000016 10000017]\n",
      "Unique values in 'Barcode': [20027851 20030472 20049291 ... 20067829 20067841 20067848]\n",
      "Unique values in 'Item_Category': ['Mug' 'Hoodie' 'Cap' 'Jersey' 'Scarf' 'Youth Jersey' 'Poster'\n",
      " 'Youth Hoodie']\n",
      "Unique values in 'Item_Name': ['Logo Mug' 'Team Hoodie' 'Training Hoodie' 'Retro Cap' 'Classic Cap'\n",
      " 'Retro Jersey' 'Home Scarf' 'Youth Away Jersey' 'Player Poster'\n",
      " 'Youth Training Hoodie' 'Away Scarf' 'Youth Team Hoodie' 'Home Jersey'\n",
      " 'Away Jersey' 'Club Mug' 'Team Poster' 'Youth Home Jersey'\n",
      " 'Youth Retro Jersey']\n",
      "Unique values in 'Size': ['Missing' 'XXL' 'S' 'XL' 'L' 'YL' 'M' 'YS' 'YM']\n",
      "Unique values in 'Unit_Price': [ 25  75  35 152  40  90  20  50]\n",
      "Unique values in 'Customer_Age_Group': ['18–25' '41–60' '26–40' '<18' '60+']\n",
      "Unique values in 'Customer_Region': ['Domestic' 'International']\n",
      "Unique values in 'Promotion': [False  True]\n",
      "Unique values in 'Channel': ['Online' 'Team Store']\n",
      "Unique values in 'Selling_Date': ['2023-12-01 04:42' '2023-12-01 06:03' '2023-12-01 23:55' ...\n",
      " '2024-11-08 18:58' '2024-02-23 16:45' '2023-12-30 14:01']\n",
      "Unique values in 'Member_ID': [10000024 10000022 10000069 ... 10023636 10010807 10001610]\n",
      "Unique values in 'Arrival_Date': ['2023-12-06 09:25' '2023-12-06 17:24' '2023-12-07 10:35' ...\n",
      " '2025-01-10 16:38' '2025-01-10 17:33' '2025-01-10 18:51']\n"
     ]
    }
   ],
   "source": [
    "for column in merch.columns:\n",
    "    print(f\"Unique values in '{column}': {merch[column].unique()}\")"
   ]
  },
  {
   "cell_type": "code",
   "execution_count": 29,
   "id": "bd2b1104",
   "metadata": {},
   "outputs": [
    {
     "name": "stdout",
     "output_type": "stream",
     "text": [
      "Unique values in 'Membership_ID': [10218708 10043567 14272475 ... 43388235 22532180 10035894]\n",
      "Unique values in 'Age_Group': ['18-25' '41-60' '<18' '26-40' '60+']\n",
      "Unique values in 'Games_Attended': [ 3  2  5  7  8 30  6 19  4 28  1 18 25 21 24 17 22 16 27 26 23 29 20 15]\n",
      "Unique values in 'Seasonal_Pass': [False  True]\n",
      "Unique values in 'Customer_Region': ['Canada' 'USA' 'Japan' 'India' 'China' 'South Korea' 'UK']\n"
     ]
    }
   ],
   "source": [
    "for column in fanbase.columns:\n",
    "    print(f\"Unique values in '{column}': {fanbase[column].unique()}\")"
   ]
  },
  {
   "cell_type": "code",
   "execution_count": 30,
   "id": "011219f9",
   "metadata": {},
   "outputs": [
    {
     "name": "stdout",
     "output_type": "stream",
     "text": [
      "Unique values in 'Month': [ 1  2  3  4  5  6  7  8  9 10 11 12]\n",
      "Unique values in 'Source': ['Upper Bowl' 'Lower Bowl' 'Season' 'Premium' 'Food' 'Staff' 'Concert'\n",
      " 'Conference' 'Insurance' 'Maintenance' 'Utilities' 'Advertising']\n",
      "Unique values in 'Revenue': [   25020   686664   434112   390879   286524   187056   307230   462672\n",
      "   358527   658944    58077        0  1154980  3327450  3204408  2628288\n",
      "  2122992  1289960  1778832  2945364  2249916  3410190   556924   527340\n",
      "   535923   478674   438702   228874   289464   480942   411540   416043\n",
      "    35145   398400   272160   243033   169320   107856   183534   318816\n",
      "   259521   314427    19965   443982  2777643  2596206  2227200  1723476\n",
      "  1208020  1469214  2357364  2001792  2844126   299296 -2765000 -3400000\n",
      " -3318000 -3362000 -3361500 -3198000 -3485000 -3527500 -3276000 -3483000\n",
      " -3108000   450000   285000   620000  1200000   420000   720000  1180000\n",
      "   240000    75000    70000   146000    71000    69000   144000    68500\n",
      "   140000   225000   243000  -160000 -1500000  -540000  -415000  -430000\n",
      "  -500000  -530000  -490000  -510000  -525000 -1000000  -890000  -269093\n",
      "  -220770  -221023  -235475  -301120  -350674  -431345  -315497  -221451\n",
      "  -234718  -349573  -319202   437600   485000   432000   395000   372700\n",
      "   387500   420500   416600   382300   421650   416100   532000]\n"
     ]
    }
   ],
   "source": [
    "for column in stadium.columns:\n",
    "    print(f\"Unique values in '{column}': {stadium[column].unique()}\")"
   ]
  },
  {
   "cell_type": "markdown",
   "id": "7f948b36",
   "metadata": {},
   "source": [
    "## Checking for Duplicates in ID columns"
   ]
  },
  {
   "cell_type": "code",
   "execution_count": 67,
   "id": "2b8a1cf7",
   "metadata": {},
   "outputs": [
    {
     "data": {
      "text/plain": [
       "np.True_"
      ]
     },
     "execution_count": 67,
     "metadata": {},
     "output_type": "execute_result"
    }
   ],
   "source": [
    "has_duplicates = merch['Member_ID'].duplicated().any()\n",
    "\n",
    "has_duplicates"
   ]
  },
  {
   "cell_type": "code",
   "execution_count": 68,
   "id": "d0b3c9fc",
   "metadata": {},
   "outputs": [
    {
     "data": {
      "text/plain": [
       "np.True_"
      ]
     },
     "execution_count": 68,
     "metadata": {},
     "output_type": "execute_result"
    }
   ],
   "source": [
    "has_duplicates = merch['Product_ID'].duplicated().any()\n",
    "\n",
    "has_duplicates"
   ]
  },
  {
   "cell_type": "code",
   "execution_count": 78,
   "id": "58573a57",
   "metadata": {},
   "outputs": [
    {
     "data": {
      "text/plain": [
       "np.False_"
      ]
     },
     "execution_count": 78,
     "metadata": {},
     "output_type": "execute_result"
    }
   ],
   "source": [
    "has_duplicates = fanbase['Membership_ID'].duplicated().any()\n",
    "\n",
    "has_duplicates"
   ]
  },
  {
   "cell_type": "markdown",
   "id": "11523f0d",
   "metadata": {},
   "source": [
    "Purchase data behaviour: Each product purchase is represented as an instance, so a member ID may show up multiple times if they purchased multiple items. A particular combination of a membership ID and product ID may show up together if someone purchased an item multiple times"
   ]
  },
  {
   "cell_type": "markdown",
   "id": "0e490fba",
   "metadata": {},
   "source": [
    "## Other Checks"
   ]
  },
  {
   "cell_type": "markdown",
   "id": "5f33d844",
   "metadata": {},
   "source": [
    "Merch and Fanbase both have member IDs: check to see that customer features (such as age and region) are consistent across both dataframes."
   ]
  },
  {
   "cell_type": "code",
   "execution_count": 94,
   "id": "fb9fae65",
   "metadata": {},
   "outputs": [
    {
     "data": {
      "application/vnd.microsoft.datawrangler.viewer.v0+json": {
       "columns": [
        {
         "name": "index",
         "rawType": "int64",
         "type": "integer"
        },
        {
         "name": "Member_ID",
         "rawType": "int64",
         "type": "integer"
        },
        {
         "name": "Customer_Age_Group",
         "rawType": "object",
         "type": "string"
        },
        {
         "name": "Games_Attended",
         "rawType": "int64",
         "type": "integer"
        },
        {
         "name": "Seasonal_Pass",
         "rawType": "bool",
         "type": "boolean"
        },
        {
         "name": "Customer_Region",
         "rawType": "object",
         "type": "string"
        }
       ],
       "ref": "f2e98fb1-da1a-4bf5-9c4d-6da338f5fb45",
       "rows": [
        [
         "0",
         "10218708",
         "18-25",
         "3",
         "False",
         "Canada"
        ],
        [
         "1",
         "10043567",
         "18-25",
         "2",
         "False",
         "Canada"
        ],
        [
         "2",
         "14272475",
         "41-60",
         "2",
         "False",
         "Canada"
        ],
        [
         "3",
         "10034985",
         "18-25",
         "5",
         "False",
         "Canada"
        ],
        [
         "4",
         "10004699",
         "18-25",
         "7",
         "False",
         "Canada"
        ],
        [
         "5",
         "10043010",
         "<18",
         "7",
         "False",
         "Canada"
        ],
        [
         "6",
         "10013460",
         "26-40",
         "3",
         "False",
         "Canada"
        ],
        [
         "7",
         "93269968",
         "26-40",
         "8",
         "False",
         "Canada"
        ],
        [
         "8",
         "10021603",
         "26-40",
         "7",
         "False",
         "Canada"
        ],
        [
         "9",
         "10029771",
         "18-25",
         "30",
         "True",
         "Canada"
        ],
        [
         "10",
         "8224341",
         "18-25",
         "6",
         "False",
         "USA"
        ],
        [
         "11",
         "10037174",
         "41-60",
         "19",
         "True",
         "Canada"
        ],
        [
         "12",
         "10024152",
         "18-25",
         "3",
         "False",
         "Canada"
        ],
        [
         "13",
         "10000978",
         "18-25",
         "7",
         "False",
         "Canada"
        ],
        [
         "14",
         "41565099",
         "26-40",
         "3",
         "False",
         "Canada"
        ],
        [
         "15",
         "1876807",
         "41-60",
         "4",
         "False",
         "Canada"
        ],
        [
         "16",
         "20876220",
         "26-40",
         "5",
         "False",
         "Canada"
        ],
        [
         "17",
         "45770917",
         "41-60",
         "7",
         "False",
         "Canada"
        ],
        [
         "18",
         "27659606",
         "26-40",
         "2",
         "False",
         "Canada"
        ],
        [
         "19",
         "63431073",
         "18-25",
         "28",
         "True",
         "Canada"
        ],
        [
         "20",
         "87016574",
         "18-25",
         "4",
         "False",
         "Canada"
        ],
        [
         "21",
         "10002824",
         "18-25",
         "4",
         "False",
         "Canada"
        ],
        [
         "22",
         "50941473",
         "26-40",
         "2",
         "False",
         "Canada"
        ],
        [
         "23",
         "10034323",
         "41-60",
         "1",
         "False",
         "Canada"
        ],
        [
         "24",
         "10022609",
         "41-60",
         "6",
         "False",
         "Canada"
        ],
        [
         "25",
         "10024251",
         "18-25",
         "3",
         "False",
         "Canada"
        ],
        [
         "26",
         "10167845",
         "<18",
         "1",
         "False",
         "Canada"
        ],
        [
         "27",
         "10037439",
         "18-25",
         "3",
         "False",
         "Canada"
        ],
        [
         "28",
         "10023128",
         "26-40",
         "1",
         "False",
         "Canada"
        ],
        [
         "29",
         "50418019",
         "26-40",
         "4",
         "False",
         "Canada"
        ],
        [
         "30",
         "10028953",
         "<18",
         "3",
         "False",
         "USA"
        ],
        [
         "31",
         "10002159",
         "18-25",
         "1",
         "False",
         "Canada"
        ],
        [
         "32",
         "10039582",
         "26-40",
         "1",
         "False",
         "Canada"
        ],
        [
         "33",
         "10020062",
         "18-25",
         "4",
         "False",
         "Canada"
        ],
        [
         "34",
         "27550612",
         "<18",
         "3",
         "False",
         "Canada"
        ],
        [
         "35",
         "10000999",
         "18-25",
         "8",
         "False",
         "Canada"
        ],
        [
         "36",
         "10042356",
         "<18",
         "7",
         "False",
         "Canada"
        ],
        [
         "37",
         "15147639",
         "18-25",
         "3",
         "False",
         "Canada"
        ],
        [
         "38",
         "10014802",
         "18-25",
         "18",
         "True",
         "Canada"
        ],
        [
         "39",
         "10031155",
         "26-40",
         "8",
         "False",
         "Canada"
        ],
        [
         "40",
         "11368611",
         "18-25",
         "8",
         "False",
         "Canada"
        ],
        [
         "41",
         "10026843",
         "26-40",
         "5",
         "False",
         "Canada"
        ],
        [
         "42",
         "10007006",
         "26-40",
         "5",
         "False",
         "Canada"
        ],
        [
         "43",
         "69477703",
         "26-40",
         "5",
         "False",
         "USA"
        ],
        [
         "44",
         "10019016",
         "41-60",
         "3",
         "False",
         "Canada"
        ],
        [
         "45",
         "3002180",
         "41-60",
         "2",
         "False",
         "USA"
        ],
        [
         "46",
         "10006423",
         "18-25",
         "6",
         "False",
         "USA"
        ],
        [
         "47",
         "10038781",
         "26-40",
         "6",
         "False",
         "Canada"
        ],
        [
         "48",
         "10010043",
         "26-40",
         "4",
         "False",
         "Canada"
        ],
        [
         "49",
         "15590030",
         "26-40",
         "7",
         "False",
         "Canada"
        ]
       ],
       "shape": {
        "columns": 5,
        "rows": 70000
       }
      },
      "text/html": [
       "<div>\n",
       "<style scoped>\n",
       "    .dataframe tbody tr th:only-of-type {\n",
       "        vertical-align: middle;\n",
       "    }\n",
       "\n",
       "    .dataframe tbody tr th {\n",
       "        vertical-align: top;\n",
       "    }\n",
       "\n",
       "    .dataframe thead th {\n",
       "        text-align: right;\n",
       "    }\n",
       "</style>\n",
       "<table border=\"1\" class=\"dataframe\">\n",
       "  <thead>\n",
       "    <tr style=\"text-align: right;\">\n",
       "      <th></th>\n",
       "      <th>Member_ID</th>\n",
       "      <th>Customer_Age_Group</th>\n",
       "      <th>Games_Attended</th>\n",
       "      <th>Seasonal_Pass</th>\n",
       "      <th>Customer_Region</th>\n",
       "    </tr>\n",
       "  </thead>\n",
       "  <tbody>\n",
       "    <tr>\n",
       "      <th>0</th>\n",
       "      <td>10218708</td>\n",
       "      <td>18-25</td>\n",
       "      <td>3</td>\n",
       "      <td>False</td>\n",
       "      <td>Canada</td>\n",
       "    </tr>\n",
       "    <tr>\n",
       "      <th>1</th>\n",
       "      <td>10043567</td>\n",
       "      <td>18-25</td>\n",
       "      <td>2</td>\n",
       "      <td>False</td>\n",
       "      <td>Canada</td>\n",
       "    </tr>\n",
       "    <tr>\n",
       "      <th>2</th>\n",
       "      <td>14272475</td>\n",
       "      <td>41-60</td>\n",
       "      <td>2</td>\n",
       "      <td>False</td>\n",
       "      <td>Canada</td>\n",
       "    </tr>\n",
       "    <tr>\n",
       "      <th>3</th>\n",
       "      <td>10034985</td>\n",
       "      <td>18-25</td>\n",
       "      <td>5</td>\n",
       "      <td>False</td>\n",
       "      <td>Canada</td>\n",
       "    </tr>\n",
       "    <tr>\n",
       "      <th>4</th>\n",
       "      <td>10004699</td>\n",
       "      <td>18-25</td>\n",
       "      <td>7</td>\n",
       "      <td>False</td>\n",
       "      <td>Canada</td>\n",
       "    </tr>\n",
       "    <tr>\n",
       "      <th>...</th>\n",
       "      <td>...</td>\n",
       "      <td>...</td>\n",
       "      <td>...</td>\n",
       "      <td>...</td>\n",
       "      <td>...</td>\n",
       "    </tr>\n",
       "    <tr>\n",
       "      <th>69995</th>\n",
       "      <td>10002392</td>\n",
       "      <td>&lt;18</td>\n",
       "      <td>7</td>\n",
       "      <td>False</td>\n",
       "      <td>Canada</td>\n",
       "    </tr>\n",
       "    <tr>\n",
       "      <th>69996</th>\n",
       "      <td>90870179</td>\n",
       "      <td>18-25</td>\n",
       "      <td>3</td>\n",
       "      <td>False</td>\n",
       "      <td>Canada</td>\n",
       "    </tr>\n",
       "    <tr>\n",
       "      <th>69997</th>\n",
       "      <td>43388235</td>\n",
       "      <td>18-25</td>\n",
       "      <td>1</td>\n",
       "      <td>False</td>\n",
       "      <td>Canada</td>\n",
       "    </tr>\n",
       "    <tr>\n",
       "      <th>69998</th>\n",
       "      <td>22532180</td>\n",
       "      <td>18-25</td>\n",
       "      <td>8</td>\n",
       "      <td>False</td>\n",
       "      <td>Canada</td>\n",
       "    </tr>\n",
       "    <tr>\n",
       "      <th>69999</th>\n",
       "      <td>10035894</td>\n",
       "      <td>18-25</td>\n",
       "      <td>6</td>\n",
       "      <td>False</td>\n",
       "      <td>Canada</td>\n",
       "    </tr>\n",
       "  </tbody>\n",
       "</table>\n",
       "<p>70000 rows × 5 columns</p>\n",
       "</div>"
      ],
      "text/plain": [
       "       Member_ID Customer_Age_Group  Games_Attended  Seasonal_Pass  \\\n",
       "0       10218708              18-25               3          False   \n",
       "1       10043567              18-25               2          False   \n",
       "2       14272475              41-60               2          False   \n",
       "3       10034985              18-25               5          False   \n",
       "4       10004699              18-25               7          False   \n",
       "...          ...                ...             ...            ...   \n",
       "69995   10002392                <18               7          False   \n",
       "69996   90870179              18-25               3          False   \n",
       "69997   43388235              18-25               1          False   \n",
       "69998   22532180              18-25               8          False   \n",
       "69999   10035894              18-25               6          False   \n",
       "\n",
       "      Customer_Region  \n",
       "0              Canada  \n",
       "1              Canada  \n",
       "2              Canada  \n",
       "3              Canada  \n",
       "4              Canada  \n",
       "...               ...  \n",
       "69995          Canada  \n",
       "69996          Canada  \n",
       "69997          Canada  \n",
       "69998          Canada  \n",
       "69999          Canada  \n",
       "\n",
       "[70000 rows x 5 columns]"
      ]
     },
     "execution_count": 94,
     "metadata": {},
     "output_type": "execute_result"
    }
   ],
   "source": [
    "fanbase = fanbase.rename(columns = {'Membership_ID':'Member_ID', 'Age_Group':'Customer_Age_Group'})\n",
    "\n",
    "fanbase"
   ]
  },
  {
   "cell_type": "code",
   "execution_count": 95,
   "id": "c0d192a4",
   "metadata": {},
   "outputs": [
    {
     "data": {
      "application/vnd.microsoft.datawrangler.viewer.v0+json": {
       "columns": [
        {
         "name": "index",
         "rawType": "int64",
         "type": "integer"
        },
        {
         "name": "Product_ID",
         "rawType": "float64",
         "type": "float"
        },
        {
         "name": "Barcode",
         "rawType": "float64",
         "type": "float"
        },
        {
         "name": "Item_Category",
         "rawType": "object",
         "type": "unknown"
        },
        {
         "name": "Item_Name",
         "rawType": "object",
         "type": "unknown"
        },
        {
         "name": "Size",
         "rawType": "object",
         "type": "unknown"
        },
        {
         "name": "Unit_Price",
         "rawType": "float64",
         "type": "float"
        },
        {
         "name": "Customer_Age_Group_merch",
         "rawType": "object",
         "type": "unknown"
        },
        {
         "name": "Customer_Region_merch",
         "rawType": "object",
         "type": "unknown"
        },
        {
         "name": "Promotion",
         "rawType": "object",
         "type": "unknown"
        },
        {
         "name": "Channel",
         "rawType": "object",
         "type": "unknown"
        },
        {
         "name": "Selling_Date",
         "rawType": "object",
         "type": "unknown"
        },
        {
         "name": "Member_ID",
         "rawType": "int64",
         "type": "integer"
        },
        {
         "name": "Arrival_Date",
         "rawType": "object",
         "type": "unknown"
        },
        {
         "name": "is_end_after_start",
         "rawType": "object",
         "type": "unknown"
        },
        {
         "name": "Customer_Age_Group_fanbase",
         "rawType": "object",
         "type": "string"
        },
        {
         "name": "Games_Attended",
         "rawType": "int64",
         "type": "integer"
        },
        {
         "name": "Seasonal_Pass",
         "rawType": "bool",
         "type": "boolean"
        },
        {
         "name": "Customer_Region_fanbase",
         "rawType": "object",
         "type": "string"
        },
        {
         "name": "_merge",
         "rawType": "category",
         "type": "unknown"
        }
       ],
       "ref": "00cb7926-2cf0-4d5b-a0db-d13b98567fa5",
       "rows": [
        [
         "0",
         null,
         null,
         null,
         null,
         null,
         null,
         null,
         null,
         null,
         null,
         null,
         "1370",
         null,
         null,
         "26-40",
         "4",
         "False",
         "Canada",
         "right_only"
        ],
        [
         "1",
         null,
         null,
         null,
         null,
         null,
         null,
         null,
         null,
         null,
         null,
         null,
         "7913",
         null,
         null,
         "26-40",
         "7",
         "False",
         "Canada",
         "right_only"
        ],
        [
         "2",
         null,
         null,
         null,
         null,
         null,
         null,
         null,
         null,
         null,
         null,
         null,
         "9041",
         null,
         null,
         "18-25",
         "4",
         "False",
         "Canada",
         "right_only"
        ],
        [
         "3",
         null,
         null,
         null,
         null,
         null,
         null,
         null,
         null,
         null,
         null,
         null,
         "13517",
         null,
         null,
         "60+",
         "4",
         "False",
         "Canada",
         "right_only"
        ],
        [
         "4",
         null,
         null,
         null,
         null,
         null,
         null,
         null,
         null,
         null,
         null,
         null,
         "18474",
         null,
         null,
         "<18",
         "4",
         "False",
         "India",
         "right_only"
        ],
        [
         "5",
         null,
         null,
         null,
         null,
         null,
         null,
         null,
         null,
         null,
         null,
         null,
         "18999",
         null,
         null,
         "18-25",
         "3",
         "False",
         "Canada",
         "right_only"
        ],
        [
         "6",
         null,
         null,
         null,
         null,
         null,
         null,
         null,
         null,
         null,
         null,
         null,
         "19277",
         null,
         null,
         "60+",
         "3",
         "False",
         "Canada",
         "right_only"
        ],
        [
         "7",
         null,
         null,
         null,
         null,
         null,
         null,
         null,
         null,
         null,
         null,
         null,
         "32251",
         null,
         null,
         "41-60",
         "6",
         "False",
         "Canada",
         "right_only"
        ],
        [
         "8",
         null,
         null,
         null,
         null,
         null,
         null,
         null,
         null,
         null,
         null,
         null,
         "48973",
         null,
         null,
         "26-40",
         "6",
         "False",
         "Canada",
         "right_only"
        ],
        [
         "9",
         null,
         null,
         null,
         null,
         null,
         null,
         null,
         null,
         null,
         null,
         null,
         "58575",
         null,
         null,
         "26-40",
         "8",
         "False",
         "Canada",
         "right_only"
        ],
        [
         "10",
         null,
         null,
         null,
         null,
         null,
         null,
         null,
         null,
         null,
         null,
         null,
         "58648",
         null,
         null,
         "18-25",
         "19",
         "True",
         "Canada",
         "right_only"
        ],
        [
         "11",
         null,
         null,
         null,
         null,
         null,
         null,
         null,
         null,
         null,
         null,
         null,
         "60632",
         null,
         null,
         "18-25",
         "6",
         "False",
         "Canada",
         "right_only"
        ],
        [
         "12",
         null,
         null,
         null,
         null,
         null,
         null,
         null,
         null,
         null,
         null,
         null,
         "67037",
         null,
         null,
         "41-60",
         "4",
         "False",
         "Canada",
         "right_only"
        ],
        [
         "13",
         null,
         null,
         null,
         null,
         null,
         null,
         null,
         null,
         null,
         null,
         null,
         "71138",
         null,
         null,
         "60+",
         "4",
         "False",
         "Canada",
         "right_only"
        ],
        [
         "14",
         null,
         null,
         null,
         null,
         null,
         null,
         null,
         null,
         null,
         null,
         null,
         "72345",
         null,
         null,
         "18-25",
         "22",
         "True",
         "Canada",
         "right_only"
        ],
        [
         "15",
         null,
         null,
         null,
         null,
         null,
         null,
         null,
         null,
         null,
         null,
         null,
         "78079",
         null,
         null,
         "18-25",
         "3",
         "False",
         "Canada",
         "right_only"
        ],
        [
         "16",
         null,
         null,
         null,
         null,
         null,
         null,
         null,
         null,
         null,
         null,
         null,
         "79886",
         null,
         null,
         "<18",
         "1",
         "False",
         "Canada",
         "right_only"
        ],
        [
         "17",
         null,
         null,
         null,
         null,
         null,
         null,
         null,
         null,
         null,
         null,
         null,
         "79987",
         null,
         null,
         "26-40",
         "4",
         "False",
         "Canada",
         "right_only"
        ],
        [
         "18",
         null,
         null,
         null,
         null,
         null,
         null,
         null,
         null,
         null,
         null,
         null,
         "87632",
         null,
         null,
         "<18",
         "7",
         "False",
         "USA",
         "right_only"
        ],
        [
         "19",
         null,
         null,
         null,
         null,
         null,
         null,
         null,
         null,
         null,
         null,
         null,
         "88091",
         null,
         null,
         "18-25",
         "17",
         "True",
         "Canada",
         "right_only"
        ],
        [
         "20",
         null,
         null,
         null,
         null,
         null,
         null,
         null,
         null,
         null,
         null,
         null,
         "88506",
         null,
         null,
         "26-40",
         "1",
         "False",
         "South Korea",
         "right_only"
        ],
        [
         "21",
         null,
         null,
         null,
         null,
         null,
         null,
         null,
         null,
         null,
         null,
         null,
         "89423",
         null,
         null,
         "41-60",
         "6",
         "False",
         "Canada",
         "right_only"
        ],
        [
         "22",
         null,
         null,
         null,
         null,
         null,
         null,
         null,
         null,
         null,
         null,
         null,
         "112455",
         null,
         null,
         "26-40",
         "5",
         "False",
         "USA",
         "right_only"
        ],
        [
         "23",
         null,
         null,
         null,
         null,
         null,
         null,
         null,
         null,
         null,
         null,
         null,
         "130263",
         null,
         null,
         "41-60",
         "2",
         "False",
         "Canada",
         "right_only"
        ],
        [
         "24",
         null,
         null,
         null,
         null,
         null,
         null,
         null,
         null,
         null,
         null,
         null,
         "131231",
         null,
         null,
         "18-25",
         "4",
         "False",
         "USA",
         "right_only"
        ],
        [
         "25",
         null,
         null,
         null,
         null,
         null,
         null,
         null,
         null,
         null,
         null,
         null,
         "136103",
         null,
         null,
         "18-25",
         "7",
         "False",
         "USA",
         "right_only"
        ],
        [
         "26",
         null,
         null,
         null,
         null,
         null,
         null,
         null,
         null,
         null,
         null,
         null,
         "141325",
         null,
         null,
         "<18",
         "23",
         "True",
         "Canada",
         "right_only"
        ],
        [
         "27",
         null,
         null,
         null,
         null,
         null,
         null,
         null,
         null,
         null,
         null,
         null,
         "154654",
         null,
         null,
         "26-40",
         "3",
         "False",
         "Canada",
         "right_only"
        ],
        [
         "28",
         null,
         null,
         null,
         null,
         null,
         null,
         null,
         null,
         null,
         null,
         null,
         "156008",
         null,
         null,
         "26-40",
         "2",
         "False",
         "Canada",
         "right_only"
        ],
        [
         "29",
         null,
         null,
         null,
         null,
         null,
         null,
         null,
         null,
         null,
         null,
         null,
         "156441",
         null,
         null,
         "26-40",
         "5",
         "False",
         "Canada",
         "right_only"
        ],
        [
         "30",
         null,
         null,
         null,
         null,
         null,
         null,
         null,
         null,
         null,
         null,
         null,
         "157072",
         null,
         null,
         "18-25",
         "1",
         "False",
         "Canada",
         "right_only"
        ],
        [
         "31",
         null,
         null,
         null,
         null,
         null,
         null,
         null,
         null,
         null,
         null,
         null,
         "160556",
         null,
         null,
         "41-60",
         "3",
         "False",
         "Canada",
         "right_only"
        ],
        [
         "32",
         null,
         null,
         null,
         null,
         null,
         null,
         null,
         null,
         null,
         null,
         null,
         "162249",
         null,
         null,
         "18-25",
         "4",
         "False",
         "Canada",
         "right_only"
        ],
        [
         "33",
         null,
         null,
         null,
         null,
         null,
         null,
         null,
         null,
         null,
         null,
         null,
         "162813",
         null,
         null,
         "18-25",
         "7",
         "False",
         "Canada",
         "right_only"
        ],
        [
         "34",
         null,
         null,
         null,
         null,
         null,
         null,
         null,
         null,
         null,
         null,
         null,
         "163820",
         null,
         null,
         "26-40",
         "6",
         "False",
         "Canada",
         "right_only"
        ],
        [
         "35",
         null,
         null,
         null,
         null,
         null,
         null,
         null,
         null,
         null,
         null,
         null,
         "164024",
         null,
         null,
         "26-40",
         "1",
         "False",
         "Canada",
         "right_only"
        ],
        [
         "36",
         null,
         null,
         null,
         null,
         null,
         null,
         null,
         null,
         null,
         null,
         null,
         "166524",
         null,
         null,
         "18-25",
         "8",
         "False",
         "Canada",
         "right_only"
        ],
        [
         "37",
         null,
         null,
         null,
         null,
         null,
         null,
         null,
         null,
         null,
         null,
         null,
         "169294",
         null,
         null,
         "60+",
         "2",
         "False",
         "Canada",
         "right_only"
        ],
        [
         "38",
         null,
         null,
         null,
         null,
         null,
         null,
         null,
         null,
         null,
         null,
         null,
         "177090",
         null,
         null,
         "26-40",
         "1",
         "False",
         "Canada",
         "right_only"
        ],
        [
         "39",
         null,
         null,
         null,
         null,
         null,
         null,
         null,
         null,
         null,
         null,
         null,
         "179970",
         null,
         null,
         "18-25",
         "27",
         "True",
         "Canada",
         "right_only"
        ],
        [
         "40",
         null,
         null,
         null,
         null,
         null,
         null,
         null,
         null,
         null,
         null,
         null,
         "184471",
         null,
         null,
         "60+",
         "2",
         "False",
         "Canada",
         "right_only"
        ],
        [
         "41",
         null,
         null,
         null,
         null,
         null,
         null,
         null,
         null,
         null,
         null,
         null,
         "202524",
         null,
         null,
         "18-25",
         "1",
         "False",
         "Canada",
         "right_only"
        ],
        [
         "42",
         null,
         null,
         null,
         null,
         null,
         null,
         null,
         null,
         null,
         null,
         null,
         "204561",
         null,
         null,
         "26-40",
         "8",
         "False",
         "Canada",
         "right_only"
        ],
        [
         "43",
         null,
         null,
         null,
         null,
         null,
         null,
         null,
         null,
         null,
         null,
         null,
         "209695",
         null,
         null,
         "18-25",
         "7",
         "False",
         "Canada",
         "right_only"
        ],
        [
         "44",
         null,
         null,
         null,
         null,
         null,
         null,
         null,
         null,
         null,
         null,
         null,
         "224766",
         null,
         null,
         "18-25",
         "8",
         "False",
         "Canada",
         "right_only"
        ],
        [
         "45",
         null,
         null,
         null,
         null,
         null,
         null,
         null,
         null,
         null,
         null,
         null,
         "225697",
         null,
         null,
         "18-25",
         "7",
         "False",
         "Canada",
         "right_only"
        ],
        [
         "46",
         null,
         null,
         null,
         null,
         null,
         null,
         null,
         null,
         null,
         null,
         null,
         "229594",
         null,
         null,
         "26-40",
         "2",
         "False",
         "Canada",
         "right_only"
        ],
        [
         "47",
         null,
         null,
         null,
         null,
         null,
         null,
         null,
         null,
         null,
         null,
         null,
         "233525",
         null,
         null,
         "18-25",
         "3",
         "False",
         "Canada",
         "right_only"
        ],
        [
         "48",
         null,
         null,
         null,
         null,
         null,
         null,
         null,
         null,
         null,
         null,
         null,
         "237084",
         null,
         null,
         "18-25",
         "7",
         "False",
         "Canada",
         "right_only"
        ],
        [
         "49",
         null,
         null,
         null,
         null,
         null,
         null,
         null,
         null,
         null,
         null,
         null,
         "238185",
         null,
         null,
         "18-25",
         "4",
         "False",
         "Canada",
         "right_only"
        ]
       ],
       "shape": {
        "columns": 19,
        "rows": 93359
       }
      },
      "text/html": [
       "<div>\n",
       "<style scoped>\n",
       "    .dataframe tbody tr th:only-of-type {\n",
       "        vertical-align: middle;\n",
       "    }\n",
       "\n",
       "    .dataframe tbody tr th {\n",
       "        vertical-align: top;\n",
       "    }\n",
       "\n",
       "    .dataframe thead th {\n",
       "        text-align: right;\n",
       "    }\n",
       "</style>\n",
       "<table border=\"1\" class=\"dataframe\">\n",
       "  <thead>\n",
       "    <tr style=\"text-align: right;\">\n",
       "      <th></th>\n",
       "      <th>Product_ID</th>\n",
       "      <th>Barcode</th>\n",
       "      <th>Item_Category</th>\n",
       "      <th>Item_Name</th>\n",
       "      <th>Size</th>\n",
       "      <th>Unit_Price</th>\n",
       "      <th>Customer_Age_Group_merch</th>\n",
       "      <th>Customer_Region_merch</th>\n",
       "      <th>Promotion</th>\n",
       "      <th>Channel</th>\n",
       "      <th>Selling_Date</th>\n",
       "      <th>Member_ID</th>\n",
       "      <th>Arrival_Date</th>\n",
       "      <th>is_end_after_start</th>\n",
       "      <th>Customer_Age_Group_fanbase</th>\n",
       "      <th>Games_Attended</th>\n",
       "      <th>Seasonal_Pass</th>\n",
       "      <th>Customer_Region_fanbase</th>\n",
       "      <th>_merge</th>\n",
       "    </tr>\n",
       "  </thead>\n",
       "  <tbody>\n",
       "    <tr>\n",
       "      <th>0</th>\n",
       "      <td>NaN</td>\n",
       "      <td>NaN</td>\n",
       "      <td>NaN</td>\n",
       "      <td>NaN</td>\n",
       "      <td>NaN</td>\n",
       "      <td>NaN</td>\n",
       "      <td>NaN</td>\n",
       "      <td>NaN</td>\n",
       "      <td>NaN</td>\n",
       "      <td>NaN</td>\n",
       "      <td>NaN</td>\n",
       "      <td>1370</td>\n",
       "      <td>NaN</td>\n",
       "      <td>NaN</td>\n",
       "      <td>26-40</td>\n",
       "      <td>4</td>\n",
       "      <td>False</td>\n",
       "      <td>Canada</td>\n",
       "      <td>right_only</td>\n",
       "    </tr>\n",
       "    <tr>\n",
       "      <th>1</th>\n",
       "      <td>NaN</td>\n",
       "      <td>NaN</td>\n",
       "      <td>NaN</td>\n",
       "      <td>NaN</td>\n",
       "      <td>NaN</td>\n",
       "      <td>NaN</td>\n",
       "      <td>NaN</td>\n",
       "      <td>NaN</td>\n",
       "      <td>NaN</td>\n",
       "      <td>NaN</td>\n",
       "      <td>NaN</td>\n",
       "      <td>7913</td>\n",
       "      <td>NaN</td>\n",
       "      <td>NaN</td>\n",
       "      <td>26-40</td>\n",
       "      <td>7</td>\n",
       "      <td>False</td>\n",
       "      <td>Canada</td>\n",
       "      <td>right_only</td>\n",
       "    </tr>\n",
       "    <tr>\n",
       "      <th>2</th>\n",
       "      <td>NaN</td>\n",
       "      <td>NaN</td>\n",
       "      <td>NaN</td>\n",
       "      <td>NaN</td>\n",
       "      <td>NaN</td>\n",
       "      <td>NaN</td>\n",
       "      <td>NaN</td>\n",
       "      <td>NaN</td>\n",
       "      <td>NaN</td>\n",
       "      <td>NaN</td>\n",
       "      <td>NaN</td>\n",
       "      <td>9041</td>\n",
       "      <td>NaN</td>\n",
       "      <td>NaN</td>\n",
       "      <td>18-25</td>\n",
       "      <td>4</td>\n",
       "      <td>False</td>\n",
       "      <td>Canada</td>\n",
       "      <td>right_only</td>\n",
       "    </tr>\n",
       "    <tr>\n",
       "      <th>3</th>\n",
       "      <td>NaN</td>\n",
       "      <td>NaN</td>\n",
       "      <td>NaN</td>\n",
       "      <td>NaN</td>\n",
       "      <td>NaN</td>\n",
       "      <td>NaN</td>\n",
       "      <td>NaN</td>\n",
       "      <td>NaN</td>\n",
       "      <td>NaN</td>\n",
       "      <td>NaN</td>\n",
       "      <td>NaN</td>\n",
       "      <td>13517</td>\n",
       "      <td>NaN</td>\n",
       "      <td>NaN</td>\n",
       "      <td>60+</td>\n",
       "      <td>4</td>\n",
       "      <td>False</td>\n",
       "      <td>Canada</td>\n",
       "      <td>right_only</td>\n",
       "    </tr>\n",
       "    <tr>\n",
       "      <th>4</th>\n",
       "      <td>NaN</td>\n",
       "      <td>NaN</td>\n",
       "      <td>NaN</td>\n",
       "      <td>NaN</td>\n",
       "      <td>NaN</td>\n",
       "      <td>NaN</td>\n",
       "      <td>NaN</td>\n",
       "      <td>NaN</td>\n",
       "      <td>NaN</td>\n",
       "      <td>NaN</td>\n",
       "      <td>NaN</td>\n",
       "      <td>18474</td>\n",
       "      <td>NaN</td>\n",
       "      <td>NaN</td>\n",
       "      <td>&lt;18</td>\n",
       "      <td>4</td>\n",
       "      <td>False</td>\n",
       "      <td>India</td>\n",
       "      <td>right_only</td>\n",
       "    </tr>\n",
       "    <tr>\n",
       "      <th>...</th>\n",
       "      <td>...</td>\n",
       "      <td>...</td>\n",
       "      <td>...</td>\n",
       "      <td>...</td>\n",
       "      <td>...</td>\n",
       "      <td>...</td>\n",
       "      <td>...</td>\n",
       "      <td>...</td>\n",
       "      <td>...</td>\n",
       "      <td>...</td>\n",
       "      <td>...</td>\n",
       "      <td>...</td>\n",
       "      <td>...</td>\n",
       "      <td>...</td>\n",
       "      <td>...</td>\n",
       "      <td>...</td>\n",
       "      <td>...</td>\n",
       "      <td>...</td>\n",
       "      <td>...</td>\n",
       "    </tr>\n",
       "    <tr>\n",
       "      <th>93354</th>\n",
       "      <td>NaN</td>\n",
       "      <td>NaN</td>\n",
       "      <td>NaN</td>\n",
       "      <td>NaN</td>\n",
       "      <td>NaN</td>\n",
       "      <td>NaN</td>\n",
       "      <td>NaN</td>\n",
       "      <td>NaN</td>\n",
       "      <td>NaN</td>\n",
       "      <td>NaN</td>\n",
       "      <td>NaN</td>\n",
       "      <td>99977604</td>\n",
       "      <td>NaN</td>\n",
       "      <td>NaN</td>\n",
       "      <td>26-40</td>\n",
       "      <td>1</td>\n",
       "      <td>False</td>\n",
       "      <td>Canada</td>\n",
       "      <td>right_only</td>\n",
       "    </tr>\n",
       "    <tr>\n",
       "      <th>93355</th>\n",
       "      <td>NaN</td>\n",
       "      <td>NaN</td>\n",
       "      <td>NaN</td>\n",
       "      <td>NaN</td>\n",
       "      <td>NaN</td>\n",
       "      <td>NaN</td>\n",
       "      <td>NaN</td>\n",
       "      <td>NaN</td>\n",
       "      <td>NaN</td>\n",
       "      <td>NaN</td>\n",
       "      <td>NaN</td>\n",
       "      <td>99986747</td>\n",
       "      <td>NaN</td>\n",
       "      <td>NaN</td>\n",
       "      <td>18-25</td>\n",
       "      <td>7</td>\n",
       "      <td>False</td>\n",
       "      <td>Canada</td>\n",
       "      <td>right_only</td>\n",
       "    </tr>\n",
       "    <tr>\n",
       "      <th>93356</th>\n",
       "      <td>NaN</td>\n",
       "      <td>NaN</td>\n",
       "      <td>NaN</td>\n",
       "      <td>NaN</td>\n",
       "      <td>NaN</td>\n",
       "      <td>NaN</td>\n",
       "      <td>NaN</td>\n",
       "      <td>NaN</td>\n",
       "      <td>NaN</td>\n",
       "      <td>NaN</td>\n",
       "      <td>NaN</td>\n",
       "      <td>99991696</td>\n",
       "      <td>NaN</td>\n",
       "      <td>NaN</td>\n",
       "      <td>&lt;18</td>\n",
       "      <td>1</td>\n",
       "      <td>False</td>\n",
       "      <td>Canada</td>\n",
       "      <td>right_only</td>\n",
       "    </tr>\n",
       "    <tr>\n",
       "      <th>93357</th>\n",
       "      <td>NaN</td>\n",
       "      <td>NaN</td>\n",
       "      <td>NaN</td>\n",
       "      <td>NaN</td>\n",
       "      <td>NaN</td>\n",
       "      <td>NaN</td>\n",
       "      <td>NaN</td>\n",
       "      <td>NaN</td>\n",
       "      <td>NaN</td>\n",
       "      <td>NaN</td>\n",
       "      <td>NaN</td>\n",
       "      <td>99995269</td>\n",
       "      <td>NaN</td>\n",
       "      <td>NaN</td>\n",
       "      <td>41-60</td>\n",
       "      <td>6</td>\n",
       "      <td>False</td>\n",
       "      <td>Canada</td>\n",
       "      <td>right_only</td>\n",
       "    </tr>\n",
       "    <tr>\n",
       "      <th>93358</th>\n",
       "      <td>NaN</td>\n",
       "      <td>NaN</td>\n",
       "      <td>NaN</td>\n",
       "      <td>NaN</td>\n",
       "      <td>NaN</td>\n",
       "      <td>NaN</td>\n",
       "      <td>NaN</td>\n",
       "      <td>NaN</td>\n",
       "      <td>NaN</td>\n",
       "      <td>NaN</td>\n",
       "      <td>NaN</td>\n",
       "      <td>99999245</td>\n",
       "      <td>NaN</td>\n",
       "      <td>NaN</td>\n",
       "      <td>26-40</td>\n",
       "      <td>6</td>\n",
       "      <td>False</td>\n",
       "      <td>Canada</td>\n",
       "      <td>right_only</td>\n",
       "    </tr>\n",
       "  </tbody>\n",
       "</table>\n",
       "<p>93359 rows × 19 columns</p>\n",
       "</div>"
      ],
      "text/plain": [
       "       Product_ID  Barcode Item_Category Item_Name Size  Unit_Price  \\\n",
       "0             NaN      NaN           NaN       NaN  NaN         NaN   \n",
       "1             NaN      NaN           NaN       NaN  NaN         NaN   \n",
       "2             NaN      NaN           NaN       NaN  NaN         NaN   \n",
       "3             NaN      NaN           NaN       NaN  NaN         NaN   \n",
       "4             NaN      NaN           NaN       NaN  NaN         NaN   \n",
       "...           ...      ...           ...       ...  ...         ...   \n",
       "93354         NaN      NaN           NaN       NaN  NaN         NaN   \n",
       "93355         NaN      NaN           NaN       NaN  NaN         NaN   \n",
       "93356         NaN      NaN           NaN       NaN  NaN         NaN   \n",
       "93357         NaN      NaN           NaN       NaN  NaN         NaN   \n",
       "93358         NaN      NaN           NaN       NaN  NaN         NaN   \n",
       "\n",
       "      Customer_Age_Group_merch Customer_Region_merch Promotion Channel  \\\n",
       "0                          NaN                   NaN       NaN     NaN   \n",
       "1                          NaN                   NaN       NaN     NaN   \n",
       "2                          NaN                   NaN       NaN     NaN   \n",
       "3                          NaN                   NaN       NaN     NaN   \n",
       "4                          NaN                   NaN       NaN     NaN   \n",
       "...                        ...                   ...       ...     ...   \n",
       "93354                      NaN                   NaN       NaN     NaN   \n",
       "93355                      NaN                   NaN       NaN     NaN   \n",
       "93356                      NaN                   NaN       NaN     NaN   \n",
       "93357                      NaN                   NaN       NaN     NaN   \n",
       "93358                      NaN                   NaN       NaN     NaN   \n",
       "\n",
       "      Selling_Date  Member_ID Arrival_Date is_end_after_start  \\\n",
       "0              NaN       1370          NaN                NaN   \n",
       "1              NaN       7913          NaN                NaN   \n",
       "2              NaN       9041          NaN                NaN   \n",
       "3              NaN      13517          NaN                NaN   \n",
       "4              NaN      18474          NaN                NaN   \n",
       "...            ...        ...          ...                ...   \n",
       "93354          NaN   99977604          NaN                NaN   \n",
       "93355          NaN   99986747          NaN                NaN   \n",
       "93356          NaN   99991696          NaN                NaN   \n",
       "93357          NaN   99995269          NaN                NaN   \n",
       "93358          NaN   99999245          NaN                NaN   \n",
       "\n",
       "      Customer_Age_Group_fanbase  Games_Attended  Seasonal_Pass  \\\n",
       "0                          26-40               4          False   \n",
       "1                          26-40               7          False   \n",
       "2                          18-25               4          False   \n",
       "3                            60+               4          False   \n",
       "4                            <18               4          False   \n",
       "...                          ...             ...            ...   \n",
       "93354                      26-40               1          False   \n",
       "93355                      18-25               7          False   \n",
       "93356                        <18               1          False   \n",
       "93357                      41-60               6          False   \n",
       "93358                      26-40               6          False   \n",
       "\n",
       "      Customer_Region_fanbase      _merge  \n",
       "0                      Canada  right_only  \n",
       "1                      Canada  right_only  \n",
       "2                      Canada  right_only  \n",
       "3                      Canada  right_only  \n",
       "4                       India  right_only  \n",
       "...                       ...         ...  \n",
       "93354                  Canada  right_only  \n",
       "93355                  Canada  right_only  \n",
       "93356                  Canada  right_only  \n",
       "93357                  Canada  right_only  \n",
       "93358                  Canada  right_only  \n",
       "\n",
       "[93359 rows x 19 columns]"
      ]
     },
     "execution_count": 95,
     "metadata": {},
     "output_type": "execute_result"
    }
   ],
   "source": [
    "merged_df = pd.merge(merch, fanbase, on='Member_ID', how='outer', suffixes=('_merch', '_fanbase'), indicator=True)\n",
    "\n",
    "merged_df"
   ]
  },
  {
   "cell_type": "code",
   "execution_count": 96,
   "id": "b6f43111",
   "metadata": {},
   "outputs": [],
   "source": [
    "unique_to_merch = merged_df[merged_df['_merge'] == 'left_only']\n",
    "unique_to_fanbase = merged_df[merged_df['_merge'] == 'right_only']"
   ]
  },
  {
   "cell_type": "markdown",
   "id": "75cc8193",
   "metadata": {},
   "source": [
    "Convert the region column values in fanbase to be either domestic or international\n",
    "Check that memberIDs contain the same information for age group and region"
   ]
  }
 ],
 "metadata": {
  "kernelspec": {
   "display_name": "531",
   "language": "python",
   "name": "python3"
  },
  "language_info": {
   "codemirror_mode": {
    "name": "ipython",
    "version": 3
   },
   "file_extension": ".py",
   "mimetype": "text/x-python",
   "name": "python",
   "nbconvert_exporter": "python",
   "pygments_lexer": "ipython3",
   "version": "3.12.11"
  }
 },
 "nbformat": 4,
 "nbformat_minor": 5
}
