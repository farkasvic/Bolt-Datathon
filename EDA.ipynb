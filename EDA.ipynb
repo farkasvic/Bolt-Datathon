{
 "cells": [
  {
   "cell_type": "code",
   "execution_count": 20,
   "id": "f88b7a7b",
   "metadata": {},
   "outputs": [],
   "source": [
    "import pandas as pd\n",
    "import numpy as np\n",
    "import altair as alt"
   ]
  },
  {
   "cell_type": "code",
   "execution_count": 21,
   "id": "46689c64",
   "metadata": {},
   "outputs": [],
   "source": [
    "merch = pd.read_csv('data/raw/BOLT UBC First Byte - Merchandise Sales.csv')\n",
    "\n",
    "fanbase = pd.read_csv('data/raw/BOLT UBC First Byte - Fanbase Engagement.csv')\n",
    "\n",
    "stadium = pd.read_csv('data/raw/BOLT UBC First Byte - Stadium Operations.csv')"
   ]
  },
  {
   "cell_type": "code",
   "execution_count": 22,
   "id": "357d4269",
   "metadata": {},
   "outputs": [],
   "source": [
    "#function for initial inspection of the three datasets\n",
    "\n",
    "def inspect_data(df):\n",
    "    head = df.head()\n",
    "    describe = df.describe()\n",
    "    info = df.info()\n",
    "\n",
    "    return(head, describe, info)"
   ]
  },
  {
   "cell_type": "code",
   "execution_count": 23,
   "id": "090c92f7",
   "metadata": {},
   "outputs": [
    {
     "name": "stdout",
     "output_type": "stream",
     "text": [
      "<class 'pandas.core.frame.DataFrame'>\n",
      "RangeIndex: 144 entries, 0 to 143\n",
      "Data columns (total 3 columns):\n",
      " #   Column   Non-Null Count  Dtype \n",
      "---  ------   --------------  ----- \n",
      " 0   Month    144 non-null    int64 \n",
      " 1   Source   144 non-null    object\n",
      " 2   Revenue  144 non-null    int64 \n",
      "dtypes: int64(2), object(1)\n",
      "memory usage: 3.5+ KB\n"
     ]
    },
    {
     "data": {
      "text/plain": [
       "(   Month      Source  Revenue\n",
       " 0      1  Upper Bowl    25020\n",
       " 1      2  Upper Bowl   686664\n",
       " 2      3  Upper Bowl   434112\n",
       " 3      4  Upper Bowl   390879\n",
       " 4      5  Upper Bowl   286524,\n",
       "             Month       Revenue\n",
       " count  144.000000  1.440000e+02\n",
       " mean     6.500000  9.189942e+04\n",
       " std      3.464102  1.341148e+06\n",
       " min      1.000000 -3.527500e+06\n",
       " 25%      3.750000 -1.751925e+05\n",
       " 50%      6.500000  1.420000e+05\n",
       " 75%      9.250000  4.378755e+05\n",
       " max     12.000000  3.410190e+06,\n",
       " None)"
      ]
     },
     "execution_count": 23,
     "metadata": {},
     "output_type": "execute_result"
    }
   ],
   "source": [
    "inspect_data(stadium)"
   ]
  },
  {
   "cell_type": "code",
   "execution_count": 24,
   "id": "2d1c8819",
   "metadata": {},
   "outputs": [
    {
     "name": "stdout",
     "output_type": "stream",
     "text": [
      "<class 'pandas.core.frame.DataFrame'>\n",
      "RangeIndex: 67877 entries, 0 to 67876\n",
      "Data columns (total 13 columns):\n",
      " #   Column              Non-Null Count  Dtype \n",
      "---  ------              --------------  ----- \n",
      " 0   Product_ID          67877 non-null  int64 \n",
      " 1   Barcode             67877 non-null  int64 \n",
      " 2   Item_Category       67877 non-null  object\n",
      " 3   Item_Name           67877 non-null  object\n",
      " 4   Size                52041 non-null  object\n",
      " 5   Unit_Price          67877 non-null  int64 \n",
      " 6   Customer_Age_Group  67877 non-null  object\n",
      " 7   Customer_Region     67877 non-null  object\n",
      " 8   Promotion           67877 non-null  bool  \n",
      " 9   Channel             67877 non-null  object\n",
      " 10  Selling_Date        67877 non-null  object\n",
      " 11  Member_ID           67877 non-null  int64 \n",
      " 12  Arrival_Date        54302 non-null  object\n",
      "dtypes: bool(1), int64(4), object(8)\n",
      "memory usage: 6.3+ MB\n"
     ]
    },
    {
     "data": {
      "text/plain": [
       "(   Product_ID   Barcode Item_Category    Item_Name Size  Unit_Price  \\\n",
       " 0    10000000  20000000           Cap  Classic Cap  NaN          35   \n",
       " 1    10000000  20000001           Cap  Classic Cap  NaN          35   \n",
       " 2    10000000  20000002           Cap  Classic Cap  NaN          35   \n",
       " 3    10000000  20000003           Cap  Classic Cap  NaN          35   \n",
       " 4    10000000  20000004           Cap  Classic Cap  NaN          35   \n",
       " \n",
       "   Customer_Age_Group Customer_Region  Promotion     Channel      Selling_Date  \\\n",
       " 0              18–25        Domestic      False      Online  2024-02-14 09:30   \n",
       " 1              26–40        Domestic      False  Team Store  2024-01-31 14:30   \n",
       " 2              18–25        Domestic      False  Team Store  2024-04-30 18:57   \n",
       " 3                <18        Domestic       True      Online  2024-02-01 18:25   \n",
       " 4                <18   International      False  Team Store  2024-11-24 14:07   \n",
       " \n",
       "    Member_ID      Arrival_Date  \n",
       " 0   10008632  2024-02-22 13:49  \n",
       " 1   10005467               NaN  \n",
       " 2   10026081               NaN  \n",
       " 3   10005726  2024-02-09 12:35  \n",
       " 4   10042598               NaN  ,\n",
       "          Product_ID       Barcode    Unit_Price     Member_ID\n",
       " count  6.787700e+04  6.787700e+04  67877.000000  6.787700e+04\n",
       " mean   1.000001e+07  2.003394e+07     95.129882  1.002226e+07\n",
       " std    4.603017e+00  1.959455e+04     49.893563  1.284130e+04\n",
       " min    1.000000e+07  2.000000e+07     20.000000  1.000000e+07\n",
       " 25%    1.000000e+07  2.001697e+07     50.000000  1.001115e+07\n",
       " 50%    1.000000e+07  2.003394e+07     75.000000  1.002229e+07\n",
       " 75%    1.000001e+07  2.005091e+07    152.000000  1.003338e+07\n",
       " max    1.000002e+07  2.006788e+07    152.000000  1.004452e+07,\n",
       " None)"
      ]
     },
     "execution_count": 24,
     "metadata": {},
     "output_type": "execute_result"
    }
   ],
   "source": [
    "inspect_data(merch)"
   ]
  },
  {
   "cell_type": "code",
   "execution_count": 25,
   "id": "9588354c",
   "metadata": {},
   "outputs": [
    {
     "name": "stdout",
     "output_type": "stream",
     "text": [
      "<class 'pandas.core.frame.DataFrame'>\n",
      "RangeIndex: 70000 entries, 0 to 69999\n",
      "Data columns (total 5 columns):\n",
      " #   Column           Non-Null Count  Dtype \n",
      "---  ------           --------------  ----- \n",
      " 0   Membership_ID    70000 non-null  int64 \n",
      " 1   Age_Group        70000 non-null  object\n",
      " 2   Games_Attended   70000 non-null  int64 \n",
      " 3   Seasonal_Pass    70000 non-null  bool  \n",
      " 4   Customer_Region  70000 non-null  object\n",
      "dtypes: bool(1), int64(2), object(2)\n",
      "memory usage: 2.2+ MB\n"
     ]
    },
    {
     "data": {
      "text/plain": [
       "(   Membership_ID Age_Group  Games_Attended  Seasonal_Pass Customer_Region\n",
       " 0       10218708     18-25               3          False          Canada\n",
       " 1       10043567     18-25               2          False          Canada\n",
       " 2       14272475     41-60               2          False          Canada\n",
       " 3       10034985     18-25               5          False          Canada\n",
       " 4       10004699     18-25               7          False          Canada,\n",
       "        Membership_ID  Games_Attended\n",
       " count   7.000000e+04    70000.000000\n",
       " mean    2.464124e+07        5.711414\n",
       " std     2.595011e+07        5.168150\n",
       " min     1.370000e+03        1.000000\n",
       " 25%     1.001510e+07        3.000000\n",
       " 50%     1.003260e+07        5.000000\n",
       " 75%     3.167822e+07        7.000000\n",
       " max     9.999924e+07       30.000000,\n",
       " None)"
      ]
     },
     "execution_count": 25,
     "metadata": {},
     "output_type": "execute_result"
    }
   ],
   "source": [
    "inspect_data(fanbase)"
   ]
  },
  {
   "cell_type": "markdown",
   "id": "e4a8c0a9",
   "metadata": {},
   "source": [
    "Initial findings: no need to drop duplicates, several null values in merch: size and merch: arrival date. Try imputing missing values for merch sizing with 'Missing' value, imputing missing values for arrival date with a forward fill, after sorting by date."
   ]
  },
  {
   "cell_type": "code",
   "execution_count": 26,
   "id": "3a7b4f29",
   "metadata": {},
   "outputs": [],
   "source": [
    "merch['Size'] = merch['Size'].fillna('Missing')\n",
    "\n",
    "merch = merch.sort_values(by='Arrival_Date')\n",
    "\n",
    "merch['Arrival_Date'] = merch['Arrival_Date'].ffill()"
   ]
  },
  {
   "cell_type": "code",
   "execution_count": 27,
   "id": "354bd3f3",
   "metadata": {},
   "outputs": [
    {
     "name": "stdout",
     "output_type": "stream",
     "text": [
      "<class 'pandas.core.frame.DataFrame'>\n",
      "Index: 67877 entries, 27851 to 67848\n",
      "Data columns (total 13 columns):\n",
      " #   Column              Non-Null Count  Dtype \n",
      "---  ------              --------------  ----- \n",
      " 0   Product_ID          67877 non-null  int64 \n",
      " 1   Barcode             67877 non-null  int64 \n",
      " 2   Item_Category       67877 non-null  object\n",
      " 3   Item_Name           67877 non-null  object\n",
      " 4   Size                67877 non-null  object\n",
      " 5   Unit_Price          67877 non-null  int64 \n",
      " 6   Customer_Age_Group  67877 non-null  object\n",
      " 7   Customer_Region     67877 non-null  object\n",
      " 8   Promotion           67877 non-null  bool  \n",
      " 9   Channel             67877 non-null  object\n",
      " 10  Selling_Date        67877 non-null  object\n",
      " 11  Member_ID           67877 non-null  int64 \n",
      " 12  Arrival_Date        67877 non-null  object\n",
      "dtypes: bool(1), int64(4), object(8)\n",
      "memory usage: 6.8+ MB\n"
     ]
    },
    {
     "data": {
      "text/plain": [
       "(       Product_ID   Barcode Item_Category        Item_Name     Size  \\\n",
       " 27851    10000008  20027851           Mug         Logo Mug  Missing   \n",
       " 30472    10000002  20030472        Hoodie      Team Hoodie      XXL   \n",
       " 49291    10000003  20049291        Hoodie  Training Hoodie      XXL   \n",
       " 17289    10000001  20017289           Cap        Retro Cap  Missing   \n",
       " 12321    10000001  20012321           Cap        Retro Cap  Missing   \n",
       " \n",
       "        Unit_Price Customer_Age_Group Customer_Region  Promotion Channel  \\\n",
       " 27851          25              18–25        Domestic      False  Online   \n",
       " 30472          75              41–60        Domestic       True  Online   \n",
       " 49291          75              18–25        Domestic       True  Online   \n",
       " 17289          35              41–60        Domestic      False  Online   \n",
       " 12321          35              41–60        Domestic      False  Online   \n",
       " \n",
       "            Selling_Date  Member_ID      Arrival_Date  \n",
       " 27851  2023-12-01 04:42   10000024  2023-12-06 09:25  \n",
       " 30472  2023-12-01 06:03   10000022  2023-12-06 17:24  \n",
       " 49291  2023-12-01 23:55   10000069  2023-12-07 10:35  \n",
       " 17289  2023-12-01 04:16   10000034  2023-12-07 11:20  \n",
       " 12321  2023-12-01 01:30   10000033  2023-12-07 11:48  ,\n",
       "          Product_ID       Barcode    Unit_Price     Member_ID\n",
       " count  6.787700e+04  6.787700e+04  67877.000000  6.787700e+04\n",
       " mean   1.000001e+07  2.003394e+07     95.129882  1.002226e+07\n",
       " std    4.603017e+00  1.959455e+04     49.893563  1.284130e+04\n",
       " min    1.000000e+07  2.000000e+07     20.000000  1.000000e+07\n",
       " 25%    1.000000e+07  2.001697e+07     50.000000  1.001115e+07\n",
       " 50%    1.000000e+07  2.003394e+07     75.000000  1.002229e+07\n",
       " 75%    1.000001e+07  2.005091e+07    152.000000  1.003338e+07\n",
       " max    1.000002e+07  2.006788e+07    152.000000  1.004452e+07,\n",
       " None)"
      ]
     },
     "execution_count": 27,
     "metadata": {},
     "output_type": "execute_result"
    }
   ],
   "source": [
    "inspect_data(merch)"
   ]
  },
  {
   "cell_type": "code",
   "execution_count": 28,
   "id": "3f71d742",
   "metadata": {},
   "outputs": [
    {
     "name": "stdout",
     "output_type": "stream",
     "text": [
      "Unique values in 'Product_ID': [10000008 10000002 10000003 10000001 10000000 10000006 10000012 10000015\n",
      " 10000009 10000014 10000011 10000013 10000005 10000004 10000007 10000010\n",
      " 10000016 10000017]\n",
      "Unique values in 'Barcode': [20027851 20030472 20049291 ... 20067829 20067841 20067848]\n",
      "Unique values in 'Item_Category': ['Mug' 'Hoodie' 'Cap' 'Jersey' 'Scarf' 'Youth Jersey' 'Poster'\n",
      " 'Youth Hoodie']\n",
      "Unique values in 'Item_Name': ['Logo Mug' 'Team Hoodie' 'Training Hoodie' 'Retro Cap' 'Classic Cap'\n",
      " 'Retro Jersey' 'Home Scarf' 'Youth Away Jersey' 'Player Poster'\n",
      " 'Youth Training Hoodie' 'Away Scarf' 'Youth Team Hoodie' 'Home Jersey'\n",
      " 'Away Jersey' 'Club Mug' 'Team Poster' 'Youth Home Jersey'\n",
      " 'Youth Retro Jersey']\n",
      "Unique values in 'Size': ['Missing' 'XXL' 'S' 'XL' 'L' 'YL' 'M' 'YS' 'YM']\n",
      "Unique values in 'Unit_Price': [ 25  75  35 152  40  90  20  50]\n",
      "Unique values in 'Customer_Age_Group': ['18–25' '41–60' '26–40' '<18' '60+']\n",
      "Unique values in 'Customer_Region': ['Domestic' 'International']\n",
      "Unique values in 'Promotion': [False  True]\n",
      "Unique values in 'Channel': ['Online' 'Team Store']\n",
      "Unique values in 'Selling_Date': ['2023-12-01 04:42' '2023-12-01 06:03' '2023-12-01 23:55' ...\n",
      " '2024-11-08 18:58' '2024-02-23 16:45' '2023-12-30 14:01']\n",
      "Unique values in 'Member_ID': [10000024 10000022 10000069 ... 10023636 10010807 10001610]\n",
      "Unique values in 'Arrival_Date': ['2023-12-06 09:25' '2023-12-06 17:24' '2023-12-07 10:35' ...\n",
      " '2025-01-10 16:38' '2025-01-10 17:33' '2025-01-10 18:51']\n"
     ]
    }
   ],
   "source": [
    "for column in merch.columns:\n",
    "    print(f\"Unique values in '{column}': {merch[column].unique()}\")"
   ]
  },
  {
   "cell_type": "code",
   "execution_count": 29,
   "id": "bd2b1104",
   "metadata": {},
   "outputs": [
    {
     "name": "stdout",
     "output_type": "stream",
     "text": [
      "Unique values in 'Membership_ID': [10218708 10043567 14272475 ... 43388235 22532180 10035894]\n",
      "Unique values in 'Age_Group': ['18-25' '41-60' '<18' '26-40' '60+']\n",
      "Unique values in 'Games_Attended': [ 3  2  5  7  8 30  6 19  4 28  1 18 25 21 24 17 22 16 27 26 23 29 20 15]\n",
      "Unique values in 'Seasonal_Pass': [False  True]\n",
      "Unique values in 'Customer_Region': ['Canada' 'USA' 'Japan' 'India' 'China' 'South Korea' 'UK']\n"
     ]
    }
   ],
   "source": [
    "for column in fanbase.columns:\n",
    "    print(f\"Unique values in '{column}': {fanbase[column].unique()}\")"
   ]
  },
  {
   "cell_type": "code",
   "execution_count": 30,
   "id": "011219f9",
   "metadata": {},
   "outputs": [
    {
     "name": "stdout",
     "output_type": "stream",
     "text": [
      "Unique values in 'Month': [ 1  2  3  4  5  6  7  8  9 10 11 12]\n",
      "Unique values in 'Source': ['Upper Bowl' 'Lower Bowl' 'Season' 'Premium' 'Food' 'Staff' 'Concert'\n",
      " 'Conference' 'Insurance' 'Maintenance' 'Utilities' 'Advertising']\n",
      "Unique values in 'Revenue': [   25020   686664   434112   390879   286524   187056   307230   462672\n",
      "   358527   658944    58077        0  1154980  3327450  3204408  2628288\n",
      "  2122992  1289960  1778832  2945364  2249916  3410190   556924   527340\n",
      "   535923   478674   438702   228874   289464   480942   411540   416043\n",
      "    35145   398400   272160   243033   169320   107856   183534   318816\n",
      "   259521   314427    19965   443982  2777643  2596206  2227200  1723476\n",
      "  1208020  1469214  2357364  2001792  2844126   299296 -2765000 -3400000\n",
      " -3318000 -3362000 -3361500 -3198000 -3485000 -3527500 -3276000 -3483000\n",
      " -3108000   450000   285000   620000  1200000   420000   720000  1180000\n",
      "   240000    75000    70000   146000    71000    69000   144000    68500\n",
      "   140000   225000   243000  -160000 -1500000  -540000  -415000  -430000\n",
      "  -500000  -530000  -490000  -510000  -525000 -1000000  -890000  -269093\n",
      "  -220770  -221023  -235475  -301120  -350674  -431345  -315497  -221451\n",
      "  -234718  -349573  -319202   437600   485000   432000   395000   372700\n",
      "   387500   420500   416600   382300   421650   416100   532000]\n"
     ]
    }
   ],
   "source": [
    "for column in stadium.columns:\n",
    "    print(f\"Unique values in '{column}': {stadium[column].unique()}\")"
   ]
  }
 ],
 "metadata": {
  "kernelspec": {
   "display_name": "531",
   "language": "python",
   "name": "python3"
  },
  "language_info": {
   "codemirror_mode": {
    "name": "ipython",
    "version": 3
   },
   "file_extension": ".py",
   "mimetype": "text/x-python",
   "name": "python",
   "nbconvert_exporter": "python",
   "pygments_lexer": "ipython3",
   "version": "3.12.11"
  }
 },
 "nbformat": 4,
 "nbformat_minor": 5
}
